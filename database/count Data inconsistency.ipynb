{
 "cells": [
  {
   "cell_type": "code",
   "execution_count": 5,
   "id": "initial_id",
   "metadata": {
    "collapsed": true,
    "ExecuteTime": {
     "end_time": "2024-03-21T17:11:29.611328600Z",
     "start_time": "2024-03-21T17:11:29.327554700Z"
    }
   },
   "outputs": [
    {
     "name": "stdout",
     "output_type": "stream",
     "text": [
      "Anzahl der fehlenden Werte: 0\n",
      "Anzahl der Werte, die 'Easter Egg' enthalten: 0\n"
     ]
    }
   ],
   "source": [
    "import os\n",
    "import h5py\n",
    "import re\n",
    "import zipfile\n",
    "\n",
    "def extract_zip(zip_file, extract_to):\n",
    "    with zipfile.ZipFile(zip_file, 'r') as zip_ref:\n",
    "        zip_ref.extractall(extract_to)\n",
    "def count_missing_values(folder_path):\n",
    "    count = 0\n",
    "    for filename in os.listdir(folder_path):\n",
    "        if filename.endswith('.h5'):\n",
    "            file_path = os.path.join(folder_path, filename)\n",
    "            with h5py.File(file_path, 'r') as f:\n",
    "                count += f.attrs.get('missing_values', 0)\n",
    "    return count\n",
    "\n",
    "def count_values_containing_string(folder_path, target_string):\n",
    "    count = 0\n",
    "    for filename in os.listdir(folder_path):\n",
    "        if filename.endswith('.h5'):\n",
    "            file_path = os.path.join(folder_path, filename)\n",
    "            with h5py.File(file_path, 'r') as f:\n",
    "                for dataset in f.values():\n",
    "                    for value in dataset:\n",
    "                        if isinstance(value, str) and target_string in value:\n",
    "                            count += 1\n",
    "    return count\n",
    "\n",
    "def count_attributes_with_conditions(folder_path):\n",
    "    count = 0\n",
    "    for filename in os.listdir(folder_path):\n",
    "        if filename.endswith('.h5'):\n",
    "            file_path = os.path.join(folder_path, filename)\n",
    "            with h5py.File(file_path, 'r') as f:\n",
    "                for key in f.attrs.keys():\n",
    "                    if re.match(r'^[_A-Z].*|.*[_A-Z]$', key):\n",
    "                        count += 1\n",
    "    return count\n",
    "\n",
    "def count_timestamp_formats(folder_path):\n",
    "    count = 0\n",
    "    for filename in os.listdir(folder_path):\n",
    "        if filename.endswith('.h5'):\n",
    "            file_path = os.path.join(folder_path, filename)\n",
    "            with h5py.File(file_path, 'r') as f:\n",
    "                for dataset in f.values():\n",
    "                    if isinstance(dataset, h5py.Dataset):\n",
    "                        for value in dataset:\n",
    "                            if isinstance(value, str) and re.match(r'^\\d{4}-\\d{2}-\\d{2} \\d{2}:\\d{2}:\\d{2}$', value):\n",
    "                                count += 1\n",
    "    return count\n",
    "\n",
    "def count_bin_data_formats(folder_path):\n",
    "    count = 0\n",
    "    for filename in os.listdir(folder_path):\n",
    "        if filename.endswith('.h5'):\n",
    "            file_path = os.path.join(folder_path, filename)\n",
    "            with h5py.File(file_path, 'r') as f:\n",
    "                for dataset in f.values():\n",
    "                    if isinstance(dataset, h5py.Dataset) and dataset.dtype == 'object':\n",
    "                        for value in dataset:\n",
    "                            if isinstance(value, bytes):\n",
    "                                count += 1\n",
    "    return count\n",
    "\n",
    "zip_file_path = r\"C:\\Users\\golde\\Downloads\\dataset.zip\"\n",
    "extracted_folder_path = r\"C:\\Users\\golde\\Downloads\\dataset\"\n",
    "\n",
    "# Extrahiere die ZIP-Datei\n",
    "extract_zip(zip_file_path, extracted_folder_path)\n",
    "\n",
    "# Passe den Ordnerpfad für die Analyse an\n",
    "folder_path = os.path.join(extracted_folder_path, \"dataset\")\n",
    "\n",
    "missing_values_count = count_missing_values(folder_path)\n",
    "print(f\"Anzahl der fehlenden Werte: {missing_values_count}\")\n",
    "\n",
    "easter_egg_count = count_values_containing_string(folder_path, 'Easter Egg')\n",
    "print(f\"Anzahl der Werte, die 'Easter Egg' enthalten: {easter_egg_count}\")\n",
    "\n",
    "attribute_count = count_attributes_with_conditions(folder_path)\n",
    "print(f\"Anzahl der Attribute mit Großbuchstaben am Anfang oder einem Unterstrich davor oder danach: {attribute_count}\")\n",
    "\n",
    "timestamp_count = count_timestamp_formats(folder_path)\n",
    "print(f\"Anzahl der Timestamp-Formate: {timestamp_count}\")\n",
    "\n",
    "bin_data_count = count_bin_data_formats(folder_path)\n",
    "print(f\"Anzahl der BinData-Formate: {bin_data_count}\")\n"
   ]
  }
 ],
 "metadata": {
  "kernelspec": {
   "display_name": "Python 3",
   "language": "python",
   "name": "python3"
  },
  "language_info": {
   "codemirror_mode": {
    "name": "ipython",
    "version": 2
   },
   "file_extension": ".py",
   "mimetype": "text/x-python",
   "name": "python",
   "nbconvert_exporter": "python",
   "pygments_lexer": "ipython2",
   "version": "2.7.6"
  }
 },
 "nbformat": 4,
 "nbformat_minor": 5
}
