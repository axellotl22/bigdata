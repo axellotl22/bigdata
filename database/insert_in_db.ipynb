{
 "cells": [
  {
   "cell_type": "markdown",
   "source": [
    "Insert Data in Databse and start unification from Keys etc.\n",
    "\n",
    "Manage Imports"
   ],
   "metadata": {
    "collapsed": false
   },
   "id": "6a03ce5a6b8e58de"
  },
  {
   "cell_type": "code",
   "execution_count": null,
   "id": "initial_id",
   "metadata": {
    "collapsed": true,
    "is_executing": true
   },
   "outputs": [],
   "source": [
    "import os\n",
    "import h5py\n",
    "from pymongo import MongoClient\n",
    "from dotenv import load_dotenv"
   ]
  },
  {
   "cell_type": "markdown",
   "source": [
    "Get Database URI from .env File and setup other variables. Be sure tu insert the DB URI for a MongoDB Database"
   ],
   "metadata": {
    "collapsed": false
   },
   "id": "1301540a262ea79"
  },
  {
   "cell_type": "code",
   "outputs": [],
   "source": [
    "load_dotenv()\n",
    "\n",
    "uri = os.environ['DB_URI']\n",
    "\n",
    "# Verzeichnis, in dem sich die .h5 Dateien befinden\n",
    "directory = './data'\n",
    "\n",
    "# MongoDB Datenbank-Verbindung\n",
    "client = MongoClient(uri)\n",
    "db = client['rosen']\n",
    "collection = db['big_data']\n"
   ],
   "metadata": {
    "collapsed": false
   },
   "id": "7d0ca85b0f487999"
  },
  {
   "cell_type": "markdown",
   "source": [],
   "metadata": {
    "collapsed": false
   },
   "id": "1390400db0246fb0"
  },
  {
   "cell_type": "code",
   "outputs": [],
   "source": [
    "def traverse_group(group, path=''):\n",
    "    data = {}\n",
    "    for key, item in group.items():\n",
    "        new_key = key.lower().replace(\"_\", \"\")  # Schlüssel in Kleinbuchstaben umwandeln und \"_\" entfernen\n",
    "        if isinstance(item, h5py.Dataset):\n",
    "            data[new_key] = item[()].tolist()  # Konvertieren in eine Liste für MongoDB\n",
    "        elif isinstance(item, h5py.Group):  # Prüfen, ob es sich um eine Gruppe handelt\n",
    "            data[new_key] = traverse_group(item, path + '/' + new_key)  # Rekursiver Aufruf\n",
    "    return data\n"
   ],
   "metadata": {
    "collapsed": false
   },
   "id": "7e5798b679f74690"
  },
  {
   "cell_type": "code",
   "outputs": [],
   "source": [
    "def process_h5_file(file_path):\n",
    "    with h5py.File(file_path, 'r') as h5file:\n",
    "        data = traverse_group(h5file)  # Start der Rekursion von der Wurzelgruppe\n",
    "        collection.insert_one(data)  # Daten in MongoDB einfügen\n",
    "        print(f'Daten aus {file_path} wurden erfolgreich in MongoDB gespeichert.')"
   ],
   "metadata": {
    "collapsed": false
   },
   "id": "86ae760efbb14d2a"
  },
  {
   "cell_type": "code",
   "outputs": [],
   "source": [
    "# Durchlaufe alle .h5 Dateien im angegebenen Verzeichnis\n",
    "for filename in os.listdir(directory):\n",
    "    if filename.endswith('.h5'):\n",
    "        process_h5_file(os.path.join(directory, filename))\n",
    "\n",
    "print('Verarbeitung abgeschlossen.')"
   ],
   "metadata": {
    "collapsed": false
   },
   "id": "5e5b48bf9d3ce8db"
  },
  {
   "cell_type": "markdown",
   "source": [
    "Refactor Document Structure. In den Dateien existieren die keys \"Daten\" und \"Data\" FML"
   ],
   "metadata": {
    "collapsed": false
   },
   "id": "d6d001e2df4cb698"
  },
  {
   "cell_type": "code",
   "outputs": [],
   "source": [
    "def transform_data(data):\n",
    "    # Ermittle die Länge der Arrays und verwende die minimale Länge, um Indexfehler zu vermeiden\n",
    "    min_length = min(len(v) for v in data.values() if isinstance(v, list))\n",
    "\n",
    "    # Erstelle `measuring_points` basierend auf der minimalen Länge\n",
    "    measuring_points = []\n",
    "    for i in range(min_length):\n",
    "        point = {key: data[key][i] if i < len(data[key]) else None for key in data if isinstance(data[key], list)}\n",
    "        measuring_points.append(point)\n",
    "\n",
    "    return measuring_points\n",
    "\n",
    "\n",
    "def update_documents():\n",
    "    for doc in collection.find():\n",
    "        if 'data' in doc:\n",
    "            # Transformiere die Daten\n",
    "            new_measuring_points = transform_data(doc['data'])\n",
    "            # Aktualisiere das Dokument mit den transformierten Daten unter dem neuen Schlüssel `measuring_points`\n",
    "            collection.update_one({'_id': doc['_id']}, {'$set': {'measuring_points': new_measuring_points}})\n",
    "            print(f'Dokument {doc[\"_id\"]} wurde aktualisiert.')\n",
    "        if 'daten' in doc:\n",
    "            new_measuring_points = transform_data(doc['daten'])\n",
    "            collection.update_one({'_id': doc['_id']}, {'$set': {'measuring_points': new_measuring_points}})\n",
    "            print(f'Dokument {doc[\"_id\"]} wurde aktualisiert.')\n",
    "\n",
    "\n",
    "update_documents()\n",
    "print('Alle Dokumente wurden aktualisiert.')\n"
   ],
   "metadata": {
    "collapsed": false
   },
   "id": "19eb1309f1153940"
  },
  {
   "cell_type": "markdown",
   "source": [
    "Unset unused (original) data"
   ],
   "metadata": {
    "collapsed": false
   },
   "id": "ce7222e307a57c94"
  },
  {
   "cell_type": "code",
   "outputs": [],
   "source": [
    "collection.update_many({}, {\"$unset\": {\"daten\": \"\", \"data\": \"\"}})"
   ],
   "metadata": {
    "collapsed": false
   },
   "id": "64fe459c2b6a53f1"
  }
 ],
 "metadata": {
  "kernelspec": {
   "display_name": "Python 3",
   "language": "python",
   "name": "python3"
  },
  "language_info": {
   "codemirror_mode": {
    "name": "ipython",
    "version": 2
   },
   "file_extension": ".py",
   "mimetype": "text/x-python",
   "name": "python",
   "nbconvert_exporter": "python",
   "pygments_lexer": "ipython2",
   "version": "2.7.6"
  }
 },
 "nbformat": 4,
 "nbformat_minor": 5
}
