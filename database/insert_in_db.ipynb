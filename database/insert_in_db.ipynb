{
 "cells": [
  {
   "cell_type": "markdown",
   "source": [
    "Insert Data in Databse and start unification from Keys etc.\n",
    "\n",
    "Manage Imports"
   ],
   "metadata": {
    "collapsed": false
   },
   "id": "6a03ce5a6b8e58de"
  },
  {
   "cell_type": "code",
   "execution_count": 11,
   "id": "initial_id",
   "metadata": {
    "collapsed": true,
    "ExecuteTime": {
     "end_time": "2024-02-08T07:58:21.779923300Z",
     "start_time": "2024-02-08T07:58:21.753068200Z"
    }
   },
   "outputs": [],
   "source": [
    "import os\n",
    "import h5py\n",
    "from pymongo import MongoClient\n",
    "from dotenv import load_dotenv\n",
    "from zoneinfo import ZoneInfo\n",
    "from datetime import datetime"
   ]
  },
  {
   "cell_type": "markdown",
   "source": [
    "Get Database URI from .env File and setup other variables. Be sure tu insert the DB URI for a MongoDB Database"
   ],
   "metadata": {
    "collapsed": false
   },
   "id": "1301540a262ea79"
  },
  {
   "cell_type": "code",
   "outputs": [],
   "source": [
    "load_dotenv()\n",
    "\n",
    "uri = os.environ['DB_URI']\n",
    "\n",
    "# Verzeichnis, in dem sich die .h5 Dateien befinden\n",
    "directory = '../data'\n",
    "\n",
    "# MongoDB Datenbank-Verbindung\n",
    "client = MongoClient(uri)\n",
    "db = client['rosen']\n",
    "collection = db['big_data']\n"
   ],
   "metadata": {
    "collapsed": false,
    "ExecuteTime": {
     "end_time": "2024-02-08T07:58:21.810379700Z",
     "start_time": "2024-02-08T07:58:21.799989500Z"
    }
   },
   "id": "7d0ca85b0f487999",
   "execution_count": 12
  },
  {
   "cell_type": "markdown",
   "source": [],
   "metadata": {
    "collapsed": false
   },
   "id": "1390400db0246fb0"
  },
  {
   "cell_type": "code",
   "outputs": [],
   "source": [
    "def calc_average(value1, value2):\n",
    "    return (value1 + value2) / 2\n",
    "\n",
    "def traverse_group(group, path=''):\n",
    "    data = {}\n",
    "    for key, item in group.items():\n",
    "        new_key = key.lower()\n",
    "        if isinstance(item, h5py.Dataset):  # Prüfen, ob es sich um einen Datensatz handelt\n",
    "            data[new_key] = item[()].tolist()  # Konvertieren in eine Liste für MongoDB\n",
    "            \n",
    "            #handle inconsistencies (for now only binary data)\n",
    "            for index, i in enumerate(data[new_key]):\n",
    "                # decode binary data\n",
    "                if isinstance(i, (bytes, bytearray)):\n",
    "                    try:\n",
    "                        # try parse as float\n",
    "                        data[new_key][index] = float(i)\n",
    "                    except ValueError:\n",
    "                        if i == b'Easteregg :)':\n",
    "                            print(f\"[{new_key}] hit {i}, taking average between last and next value\")\n",
    "                            prev = data[new_key][index-1]\n",
    "                            nextItem = data[new_key][index+1]\n",
    "                            # try calculating average between last and next val (does not work on strings)\n",
    "                            try:\n",
    "                                data[new_key][index] = calc_average(float(prev), float(nextItem))\n",
    "                            except ValueError:\n",
    "                                print(\"error on calculating average, leaving as decoded string\")\n",
    "                                # on error decode as string\n",
    "                                data[new_key][index] = str(i.decode())\n",
    "                                pass\n",
    "                        else:\n",
    "                            if new_key == \"timestamp\":\n",
    "                                try:\n",
    "                                    #timestamp in binary data as date string -> convert to unix timestamp\n",
    "                                    timezone = ZoneInfo(\"UTC\")\n",
    "                                    date = datetime.strptime(str(i.decode()), '%Y-%m-%dT%H:%M:%S').replace(tzinfo=timezone) #2014-03-24T03:58:1\n",
    "                                    # print(f\"converted to timestamp: {i} is {date.timestamp()}\")\n",
    "                                    data[new_key][index] = date.timestamp()\n",
    "                                except ValueError:\n",
    "                                    print(f\"error converting to timestamp {i}\")\n",
    "                            else:\n",
    "                                print(f\"[{new_key}] missed binary data {i}, taking average between last and next value\")\n",
    "                                prev = data[new_key][index-1]\n",
    "                                nextItem = data[new_key][index+1]\n",
    "                                # try calculating average between last and next val (does not work on strings)\n",
    "                                try:\n",
    "                                    data[new_key][index] = calc_average(float(prev), float(nextItem))\n",
    "                                except ValueError:\n",
    "                                    print(\"error on calculating average, leaving as decoded string\")\n",
    "                                    # on error decode as string\n",
    "                                    data[new_key][index] = str(i.decode())\n",
    "                                    pass   \n",
    "                else:\n",
    "                    # not binary handling\n",
    "                    #everything that is not float\n",
    "                    # case does not exist in dataset\n",
    "                    if not isinstance(i, float):\n",
    "                        print(f\"value is not binary and not float: {i}\")\n",
    "                        \n",
    "                        \n",
    "        elif isinstance(item, h5py.Group):  # Prüfen, ob es sich um eine Gruppe handelt\n",
    "            data[new_key] = traverse_group(item, path + '/' + new_key)  # Rekursiver Aufruf\n",
    "            \n",
    "    return data\n"
   ],
   "metadata": {
    "collapsed": false,
    "ExecuteTime": {
     "end_time": "2024-02-08T07:58:21.844675300Z",
     "start_time": "2024-02-08T07:58:21.819926200Z"
    }
   },
   "id": "7e5798b679f74690",
   "execution_count": 13
  },
  {
   "cell_type": "code",
   "outputs": [],
   "source": [
    "def process_h5_file(file_path):\n",
    "    with h5py.File(file_path, 'r') as h5file:\n",
    "        data = traverse_group(h5file)  # Start der Rekursion von der Wurzelgruppe\n",
    "        collection.insert_one(data)  # Daten in MongoDB einfügen\n",
    "        print(f'Daten aus {file_path} wurden erfolgreich in MongoDB gespeichert.')"
   ],
   "metadata": {
    "collapsed": false,
    "ExecuteTime": {
     "end_time": "2024-02-08T07:58:21.846739600Z",
     "start_time": "2024-02-08T07:58:21.828326200Z"
    }
   },
   "id": "86ae760efbb14d2a",
   "execution_count": 14
  },
  {
   "cell_type": "code",
   "outputs": [
    {
     "name": "stdout",
     "output_type": "stream",
     "text": [
      "Daten aus ../data/39619a6a-815e-4206-a91b-8b73ea7dd032.h5 wurden erfolgreich in MongoDB gespeichert.\n",
      "Daten aus ../data/0d25b80b-c195-4321-a5f8-3925e4f1d230.h5 wurden erfolgreich in MongoDB gespeichert.\n",
      "Daten aus ../data/77c4c9fe-5ac1-4547-8c78-efa89eed98cf.h5 wurden erfolgreich in MongoDB gespeichert.\n",
      "Daten aus ../data/1489d59b-2d5c-4b86-9724-113eda61227d.h5 wurden erfolgreich in MongoDB gespeichert.\n",
      "[magnetization] hit b'Easteregg :)', taking average between last and next value\n",
      "Daten aus ../data/cb8aa16d-c969-4bed-974e-12dfcbec03e8.h5 wurden erfolgreich in MongoDB gespeichert.\n",
      "Daten aus ../data/6d5a0ebb-9a7a-48b6-9e02-ca1ad3deb564.h5 wurden erfolgreich in MongoDB gespeichert.\n",
      "Daten aus ../data/79b0b625-6044-48de-9402-04246117bfb5.h5 wurden erfolgreich in MongoDB gespeichert.\n",
      "Daten aus ../data/bf1741fb-2a97-4aea-9b0c-e82c0609910f.h5 wurden erfolgreich in MongoDB gespeichert.\n",
      "Daten aus ../data/481865b3-e38f-46aa-b32b-58c06f8d5693.h5 wurden erfolgreich in MongoDB gespeichert.\n",
      "[magnetization] hit b'Easteregg :)', taking average between last and next value\n",
      "Daten aus ../data/49e01e6b-5f71-47c9-9cbb-2cee8d6de2b9.h5 wurden erfolgreich in MongoDB gespeichert.\n",
      "[magnetization] hit b'Easteregg :)', taking average between last and next value\n",
      "Daten aus ../data/e3bcab1c-547c-47ae-8f25-9b2ed7a74e19.h5 wurden erfolgreich in MongoDB gespeichert.\n",
      "Daten aus ../data/df5a761a-0b56-4e52-b033-6edaf1cc310f.h5 wurden erfolgreich in MongoDB gespeichert.\n",
      "Daten aus ../data/5b2e43e1-4a37-4951-aff0-4194d61e66da.h5 wurden erfolgreich in MongoDB gespeichert.\n",
      "Daten aus ../data/cba03a1a-f4a1-4d32-ba30-acd30268c310.h5 wurden erfolgreich in MongoDB gespeichert.\n",
      "Daten aus ../data/de48d3be-c096-440a-8530-e8a2e7dea319.h5 wurden erfolgreich in MongoDB gespeichert.\n",
      "Daten aus ../data/be074feb-8934-4140-ac32-68e8cf33c88c.h5 wurden erfolgreich in MongoDB gespeichert.\n",
      "Daten aus ../data/f5f6e96e-edbb-4102-a7eb-1688f62dcbc5.h5 wurden erfolgreich in MongoDB gespeichert.\n",
      "Daten aus ../data/11dee895-b308-4b4c-9b88-0f73e8f5dc8c.h5 wurden erfolgreich in MongoDB gespeichert.\n",
      "Daten aus ../data/108b04a4-b62e-4000-8b22-9f8a598c27b0.h5 wurden erfolgreich in MongoDB gespeichert.\n",
      "Daten aus ../data/617b03df-3f8a-4615-8973-46a2358072ea.h5 wurden erfolgreich in MongoDB gespeichert.\n",
      "Daten aus ../data/01fedb8c-17f7-463d-9332-7512d31967b7.h5 wurden erfolgreich in MongoDB gespeichert.\n",
      "Daten aus ../data/b5cdb6d0-f508-4555-9b02-13cddf30282e.h5 wurden erfolgreich in MongoDB gespeichert.\n",
      "Daten aus ../data/ba5998bb-982b-4ba3-ac0e-87ebb88e5d5e.h5 wurden erfolgreich in MongoDB gespeichert.\n",
      "Daten aus ../data/76e3c7a2-fef6-450c-b1b6-978479000c9b.h5 wurden erfolgreich in MongoDB gespeichert.\n",
      "Daten aus ../data/29318570-1cf2-4b2d-97af-b2b01c62eeb8.h5 wurden erfolgreich in MongoDB gespeichert.\n",
      "Daten aus ../data/9b3c5195-dbde-4506-ab6b-e7f65a4718f6.h5 wurden erfolgreich in MongoDB gespeichert.\n",
      "Daten aus ../data/61c9307e-cca5-49ea-8ce8-f3efe397111f.h5 wurden erfolgreich in MongoDB gespeichert.\n",
      "Daten aus ../data/f5d8bee6-2dae-4d10-9d17-3015f6654b54.h5 wurden erfolgreich in MongoDB gespeichert.\n",
      "Daten aus ../data/3678c3ca-a40a-4bfc-b801-1a3e2e977367.h5 wurden erfolgreich in MongoDB gespeichert.\n",
      "Daten aus ../data/70052247-b7b4-44c4-a9f3-2e5361fe9f80.h5 wurden erfolgreich in MongoDB gespeichert.\n",
      "[magnetization] hit b'Easteregg :)', taking average between last and next value\n",
      "Daten aus ../data/f5501b87-db49-4d25-9a7a-65466fc3c34c.h5 wurden erfolgreich in MongoDB gespeichert.\n",
      "[magnetization] hit b'Easteregg :)', taking average between last and next value\n",
      "Daten aus ../data/d901965f-e63c-4581-a828-78f01d3c4525.h5 wurden erfolgreich in MongoDB gespeichert.\n",
      "Daten aus ../data/a383c7ae-6952-4b2b-9f27-4aae5eb4e886.h5 wurden erfolgreich in MongoDB gespeichert.\n",
      "Daten aus ../data/9ba5ccec-bd51-4442-a29c-3246a3debaf3.h5 wurden erfolgreich in MongoDB gespeichert.\n",
      "Daten aus ../data/ebe2ad3f-5f86-4123-b718-e1d1ec1f0fb1.h5 wurden erfolgreich in MongoDB gespeichert.\n",
      "Daten aus ../data/710d8d52-b739-4da0-8edc-1a14931829c4.h5 wurden erfolgreich in MongoDB gespeichert.\n",
      "Daten aus ../data/28e5de77-a67f-4ca8-aac4-bdb83ab32159.h5 wurden erfolgreich in MongoDB gespeichert.\n",
      "Daten aus ../data/f39ba612-9da2-4369-a733-b56faf2f8e3f.h5 wurden erfolgreich in MongoDB gespeichert.\n",
      "Daten aus ../data/5328e496-1a19-49ac-831e-41861e3b6d30.h5 wurden erfolgreich in MongoDB gespeichert.\n",
      "Daten aus ../data/ddc64e8b-2a91-4483-a380-8664aaa03af9.h5 wurden erfolgreich in MongoDB gespeichert.\n",
      "Daten aus ../data/4f5745d7-4978-453e-a3d3-0727c17c55c1.h5 wurden erfolgreich in MongoDB gespeichert.\n",
      "Daten aus ../data/fd32ee63-16cd-481a-955c-15e9d80697f4.h5 wurden erfolgreich in MongoDB gespeichert.\n",
      "Daten aus ../data/edd3f5ac-c4a5-4fe2-b773-9337d8429b7f.h5 wurden erfolgreich in MongoDB gespeichert.\n",
      "Daten aus ../data/8610e446-7d5d-4e04-9fdf-3cac56598a1c.h5 wurden erfolgreich in MongoDB gespeichert.\n",
      "Daten aus ../data/81a13625-3da7-43d0-bb53-06ece57f7122.h5 wurden erfolgreich in MongoDB gespeichert.\n",
      "Daten aus ../data/f9930138-2e75-474d-b6ac-87fe5682abc1.h5 wurden erfolgreich in MongoDB gespeichert.\n",
      "Daten aus ../data/4ba26705-8a7c-4459-be66-28bae8ca137b.h5 wurden erfolgreich in MongoDB gespeichert.\n",
      "Daten aus ../data/06149f5e-e804-4e0f-95e6-485969a5e88a.h5 wurden erfolgreich in MongoDB gespeichert.\n",
      "Daten aus ../data/602fbdc9-ffa8-4331-bec5-61b273107dd4.h5 wurden erfolgreich in MongoDB gespeichert.\n",
      "Daten aus ../data/03da0eaa-98db-40d3-87bf-73ade130ac7c.h5 wurden erfolgreich in MongoDB gespeichert.\n",
      "Daten aus ../data/246a5d87-8058-49e8-ab55-f7fa5f469753.h5 wurden erfolgreich in MongoDB gespeichert.\n",
      "Daten aus ../data/f43cb346-3e5e-4f5c-afc3-6726f7e52711.h5 wurden erfolgreich in MongoDB gespeichert.\n",
      "[magnetization] hit b'Easteregg :)', taking average between last and next value\n",
      "Daten aus ../data/4b02f602-db62-4798-b9a3-2b5777e8df29.h5 wurden erfolgreich in MongoDB gespeichert.\n",
      "Daten aus ../data/83874e2d-3ff6-48ba-94f6-47393327bca8.h5 wurden erfolgreich in MongoDB gespeichert.\n",
      "Daten aus ../data/f9a8dd0e-1eb7-46d7-8f26-0a4bfbb01792.h5 wurden erfolgreich in MongoDB gespeichert.\n",
      "Daten aus ../data/5ad36009-9701-42b1-b09f-3db5d2a5168e.h5 wurden erfolgreich in MongoDB gespeichert.\n",
      "Daten aus ../data/e35b9d0d-524f-4aa3-acb2-0ed49164d015.h5 wurden erfolgreich in MongoDB gespeichert.\n",
      "Daten aus ../data/7fa46ca7-60eb-429d-b208-bc7ab16c0de7.h5 wurden erfolgreich in MongoDB gespeichert.\n",
      "Daten aus ../data/ee296fc7-3d50-4876-93ca-2bb017dd4850.h5 wurden erfolgreich in MongoDB gespeichert.\n",
      "Daten aus ../data/9a19e603-2d59-4aec-bd4f-3eae494279af.h5 wurden erfolgreich in MongoDB gespeichert.\n",
      "Daten aus ../data/4b15383e-1d98-4b56-9598-43157c5ef4a3.h5 wurden erfolgreich in MongoDB gespeichert.\n",
      "Daten aus ../data/6b6165bf-a225-4171-83c9-c46d3ce54338.h5 wurden erfolgreich in MongoDB gespeichert.\n",
      "Daten aus ../data/c6bd3972-982d-4f2b-a48d-6e983b07fa89.h5 wurden erfolgreich in MongoDB gespeichert.\n",
      "Daten aus ../data/19761165-d4f9-48b5-9325-8d033f3b2811.h5 wurden erfolgreich in MongoDB gespeichert.\n",
      "Daten aus ../data/b912a2ed-9594-4922-b64d-fcb25dccf8e2.h5 wurden erfolgreich in MongoDB gespeichert.\n",
      "[magnetization] hit b'Easteregg :)', taking average between last and next value\n",
      "Daten aus ../data/4e588f63-90a4-4524-b9c9-c30cea26e313.h5 wurden erfolgreich in MongoDB gespeichert.\n",
      "Daten aus ../data/f92177b4-c3b8-46de-9cbc-1fc16b0ed9d2.h5 wurden erfolgreich in MongoDB gespeichert.\n",
      "Daten aus ../data/4ba588a4-b71c-4bc3-9f43-ed256ee1705d.h5 wurden erfolgreich in MongoDB gespeichert.\n",
      "Daten aus ../data/5a3bac0e-fa6c-43e0-a3ca-ed5310a8623b.h5 wurden erfolgreich in MongoDB gespeichert.\n",
      "[magnetization] hit b'Easteregg :)', taking average between last and next value\n",
      "Daten aus ../data/89422c14-c902-4607-8ea9-c035d57c09ef.h5 wurden erfolgreich in MongoDB gespeichert.\n",
      "Daten aus ../data/3de7c519-ee5a-45a3-bb50-1d75d9bd86c4.h5 wurden erfolgreich in MongoDB gespeichert.\n",
      "[magnetization] hit b'Easteregg :)', taking average between last and next value\n",
      "Daten aus ../data/4bebd9e4-9338-4813-9c2b-c646c0fbf971.h5 wurden erfolgreich in MongoDB gespeichert.\n",
      "Daten aus ../data/c11de697-1f23-4c82-8487-1196d21ac26d.h5 wurden erfolgreich in MongoDB gespeichert.\n",
      "Daten aus ../data/30bbf4bc-27a6-43b0-8047-8acad23084fa.h5 wurden erfolgreich in MongoDB gespeichert.\n",
      "Daten aus ../data/dde04972-ed5b-4bcb-be10-364929dca6de.h5 wurden erfolgreich in MongoDB gespeichert.\n",
      "Daten aus ../data/768f8063-f393-44ca-9c71-b416cc76b192.h5 wurden erfolgreich in MongoDB gespeichert.\n",
      "Daten aus ../data/046eb9c7-f409-4125-a9c7-c237094ab837.h5 wurden erfolgreich in MongoDB gespeichert.\n",
      "[magnetization] hit b'Easteregg :)', taking average between last and next value\n",
      "Daten aus ../data/9dba25e7-7daa-41af-8491-0619ac451268.h5 wurden erfolgreich in MongoDB gespeichert.\n",
      "Daten aus ../data/3f6236ae-b1d6-4799-a5b0-9eb9fa87930e.h5 wurden erfolgreich in MongoDB gespeichert.\n",
      "Daten aus ../data/4131311f-f2e8-4383-88e1-713da05bb72e.h5 wurden erfolgreich in MongoDB gespeichert.\n",
      "[magnetization] hit b'Easteregg :)', taking average between last and next value\n",
      "Daten aus ../data/5e8f0620-d864-48c4-89d7-8b05604e52cf.h5 wurden erfolgreich in MongoDB gespeichert.\n",
      "Daten aus ../data/f77aa525-9e43-4c5c-aa3b-6cf8cc609bda.h5 wurden erfolgreich in MongoDB gespeichert.\n",
      "Daten aus ../data/b8d2a935-4926-4b50-8f8c-fe2c9e5619dd.h5 wurden erfolgreich in MongoDB gespeichert.\n",
      "Daten aus ../data/ef48eb11-3cc3-49ce-a47e-1ddf4914e1c1.h5 wurden erfolgreich in MongoDB gespeichert.\n",
      "Daten aus ../data/91d4cdd6-31d7-4b47-b8fa-531965b2760e.h5 wurden erfolgreich in MongoDB gespeichert.\n",
      "Daten aus ../data/c43ec8d8-2c19-45db-8dde-3ba619f0cb89.h5 wurden erfolgreich in MongoDB gespeichert.\n",
      "Daten aus ../data/9bf5a728-7d1d-46cb-aac5-69004faf4f74.h5 wurden erfolgreich in MongoDB gespeichert.\n",
      "[magnetization] hit b'Easteregg :)', taking average between last and next value\n",
      "Daten aus ../data/7c8fe3f8-41a9-44d6-8cab-2a7f42bf4a5c.h5 wurden erfolgreich in MongoDB gespeichert.\n",
      "Daten aus ../data/4ca42ba5-0ed9-49bd-8a9f-907d4bde6684.h5 wurden erfolgreich in MongoDB gespeichert.\n",
      "[magnetization] hit b'Easteregg :)', taking average between last and next value\n",
      "Daten aus ../data/93d1d459-dcc1-4540-aeee-c51fd496722b.h5 wurden erfolgreich in MongoDB gespeichert.\n",
      "Daten aus ../data/52d8c550-7efd-4f0b-9912-04161dda887e.h5 wurden erfolgreich in MongoDB gespeichert.\n",
      "Daten aus ../data/9aed45c0-60aa-4bfc-b507-b6b4e2bf8a01.h5 wurden erfolgreich in MongoDB gespeichert.\n",
      "Daten aus ../data/81a98988-a72f-428c-a661-d0f2e34f94ec.h5 wurden erfolgreich in MongoDB gespeichert.\n",
      "Daten aus ../data/d5d6f96c-55bb-4ba4-af68-bb065a92056f.h5 wurden erfolgreich in MongoDB gespeichert.\n",
      "Daten aus ../data/94d5b0af-c45a-4cfe-afed-5fa8983f9772.h5 wurden erfolgreich in MongoDB gespeichert.\n",
      "Daten aus ../data/ac847396-0506-44ad-80e0-d5bae261f5b6.h5 wurden erfolgreich in MongoDB gespeichert.\n",
      "Daten aus ../data/448413ce-39ab-4297-99bc-55e1031f507b.h5 wurden erfolgreich in MongoDB gespeichert.\n",
      "Daten aus ../data/057e5ae3-9c74-44b8-9e99-1ec5c55b776f.h5 wurden erfolgreich in MongoDB gespeichert.\n",
      "[magnetization] hit b'Easteregg :)', taking average between last and next value\n",
      "Daten aus ../data/7decb2d0-5c17-4fa2-a6e6-4866e61a5474.h5 wurden erfolgreich in MongoDB gespeichert.\n",
      "[magnetization] hit b'Easteregg :)', taking average between last and next value\n",
      "Daten aus ../data/5576da88-7949-4de5-90b0-72f38f797d3c.h5 wurden erfolgreich in MongoDB gespeichert.\n",
      "Daten aus ../data/d2accf6f-4345-42dc-b300-a6a379359cda.h5 wurden erfolgreich in MongoDB gespeichert.\n",
      "Daten aus ../data/15879d79-6716-4652-b86b-63ea797658ce.h5 wurden erfolgreich in MongoDB gespeichert.\n",
      "Daten aus ../data/0d893cea-bc7f-4102-9105-85e2d6f0ab8a.h5 wurden erfolgreich in MongoDB gespeichert.\n",
      "[magnetization] hit b'Easteregg :)', taking average between last and next value\n",
      "Daten aus ../data/255d9bc9-1ac5-4a2f-93c5-45239cb4fc20.h5 wurden erfolgreich in MongoDB gespeichert.\n",
      "Daten aus ../data/1a76a501-0bd4-4519-85fa-9cbc5b875a3e.h5 wurden erfolgreich in MongoDB gespeichert.\n",
      "Daten aus ../data/1b030a3d-7773-4e41-8049-18241fd6bd8f.h5 wurden erfolgreich in MongoDB gespeichert.\n",
      "[magnetization] hit b'Easteregg :)', taking average between last and next value\n",
      "Daten aus ../data/17719c05-c3ea-46e4-bfdf-95d2400605c4.h5 wurden erfolgreich in MongoDB gespeichert.\n",
      "Daten aus ../data/a1f1bce2-14d6-4d2f-b423-9a79c837c196.h5 wurden erfolgreich in MongoDB gespeichert.\n",
      "[magnetization] hit b'Easteregg :)', taking average between last and next value\n",
      "Daten aus ../data/1604c120-7e6e-4d25-88f0-8814ee09e249.h5 wurden erfolgreich in MongoDB gespeichert.\n",
      "[magnetization] hit b'Easteregg :)', taking average between last and next value\n",
      "Daten aus ../data/0702105d-fd92-4bbd-b215-1f1e65f79a90.h5 wurden erfolgreich in MongoDB gespeichert.\n",
      "Daten aus ../data/b2c6246f-3f08-4d6c-a267-a472505d5f7b.h5 wurden erfolgreich in MongoDB gespeichert.\n",
      "Daten aus ../data/61c2502f-eed3-4fb5-aaf9-9e892061c3a6.h5 wurden erfolgreich in MongoDB gespeichert.\n",
      "[magnetization] hit b'Easteregg :)', taking average between last and next value\n",
      "Daten aus ../data/b939d795-6cc8-4527-bada-6b93e1a6a87d.h5 wurden erfolgreich in MongoDB gespeichert.\n",
      "Daten aus ../data/1df7eacb-e083-45c3-baf1-d941440ce60d.h5 wurden erfolgreich in MongoDB gespeichert.\n",
      "Daten aus ../data/bb55e610-4075-40be-b9fe-7c0d2899dca1.h5 wurden erfolgreich in MongoDB gespeichert.\n",
      "Daten aus ../data/c8349ab8-0c08-4b18-926c-ad63959d2ad2.h5 wurden erfolgreich in MongoDB gespeichert.\n",
      "Daten aus ../data/d318e178-319d-4a8b-a692-5352fef7035f.h5 wurden erfolgreich in MongoDB gespeichert.\n",
      "Daten aus ../data/0b80a439-1be7-44dd-99b6-bd88b2876339.h5 wurden erfolgreich in MongoDB gespeichert.\n",
      "Daten aus ../data/9180d2cd-ee2a-43e6-9efe-67f0c589646e.h5 wurden erfolgreich in MongoDB gespeichert.\n",
      "Daten aus ../data/32f35d00-b463-4715-9eca-6ffa21337379.h5 wurden erfolgreich in MongoDB gespeichert.\n",
      "Daten aus ../data/76dccd4f-34c8-412e-8c6d-0d8afae6847a.h5 wurden erfolgreich in MongoDB gespeichert.\n",
      "Daten aus ../data/769921de-4063-4c84-aabb-c8c29d515b97.h5 wurden erfolgreich in MongoDB gespeichert.\n",
      "[magnetization] hit b'Easteregg :)', taking average between last and next value\n",
      "Daten aus ../data/be74cbf2-4d59-4eb6-8354-47ea0e3728f7.h5 wurden erfolgreich in MongoDB gespeichert.\n",
      "Daten aus ../data/6f47bcbf-d81f-4e7b-a6b7-a3e51dc7d23d.h5 wurden erfolgreich in MongoDB gespeichert.\n",
      "Daten aus ../data/a2104ed2-6a72-401f-b2f7-2476035f8b52.h5 wurden erfolgreich in MongoDB gespeichert.\n",
      "Daten aus ../data/4bf65797-c0ec-4fb8-af3f-6ede6562f374.h5 wurden erfolgreich in MongoDB gespeichert.\n",
      "Daten aus ../data/de8d9c0a-4527-40f7-81d4-36fcfbb74652.h5 wurden erfolgreich in MongoDB gespeichert.\n",
      "Daten aus ../data/d3582437-5b39-44c9-bba7-fc3af6a3b0a8.h5 wurden erfolgreich in MongoDB gespeichert.\n",
      "Daten aus ../data/7cf8f214-d7f6-4385-b53f-d00d5e4912fb.h5 wurden erfolgreich in MongoDB gespeichert.\n",
      "Daten aus ../data/36e00db7-5421-4661-bb6f-9448e0265729.h5 wurden erfolgreich in MongoDB gespeichert.\n",
      "[magnetization] hit b'Easteregg :)', taking average between last and next value\n",
      "Daten aus ../data/53440d9a-3120-4c96-a55c-e404bbb5adff.h5 wurden erfolgreich in MongoDB gespeichert.\n",
      "Daten aus ../data/6e2406a4-bcaa-47c4-81f2-df169022c304.h5 wurden erfolgreich in MongoDB gespeichert.\n",
      "Daten aus ../data/0625e935-7fca-4791-95e0-de7a74d48c96.h5 wurden erfolgreich in MongoDB gespeichert.\n",
      "Daten aus ../data/bf6d122e-d0bc-4a2b-b908-0eaf0ef3a2b9.h5 wurden erfolgreich in MongoDB gespeichert.\n",
      "Daten aus ../data/1e1bcf91-1454-4f80-b299-a19e42ffb693.h5 wurden erfolgreich in MongoDB gespeichert.\n",
      "Daten aus ../data/a14fc0aa-0b1e-4d30-9fb6-1b1353b37da7.h5 wurden erfolgreich in MongoDB gespeichert.\n",
      "Daten aus ../data/8fd04de7-7d5c-4c18-a582-bb6bbf979595.h5 wurden erfolgreich in MongoDB gespeichert.\n",
      "Daten aus ../data/d15d73ea-b11d-43d5-98d6-a6f00e30180b.h5 wurden erfolgreich in MongoDB gespeichert.\n",
      "Daten aus ../data/5406316d-06fd-433e-bba6-40411af2a85b.h5 wurden erfolgreich in MongoDB gespeichert.\n",
      "Daten aus ../data/ebfeecee-aa65-4236-a2b0-32968637df4f.h5 wurden erfolgreich in MongoDB gespeichert.\n",
      "Daten aus ../data/a67096d8-8898-488f-abd0-3c714814b827.h5 wurden erfolgreich in MongoDB gespeichert.\n",
      "Daten aus ../data/b7b8e537-19b6-4aeb-a090-afc22e001384.h5 wurden erfolgreich in MongoDB gespeichert.\n",
      "Daten aus ../data/7d3912d2-d8cf-4962-b75b-d298f783be8a.h5 wurden erfolgreich in MongoDB gespeichert.\n",
      "Daten aus ../data/48e4b4ad-9a69-49d2-94dc-e8e3fcb9b936.h5 wurden erfolgreich in MongoDB gespeichert.\n",
      "Daten aus ../data/74a23e7e-f3a9-43ff-92dd-d713083663a1.h5 wurden erfolgreich in MongoDB gespeichert.\n",
      "Daten aus ../data/8ccda164-ae6d-4331-811c-ac5006af0d7b.h5 wurden erfolgreich in MongoDB gespeichert.\n",
      "Daten aus ../data/1d98cc0f-18eb-4c5b-814f-e33d5f54c138.h5 wurden erfolgreich in MongoDB gespeichert.\n",
      "[magnetization] hit b'Easteregg :)', taking average between last and next value\n",
      "Daten aus ../data/e5d0aff7-8e6f-407b-8fdc-86e6e0edc5c3.h5 wurden erfolgreich in MongoDB gespeichert.\n",
      "Daten aus ../data/403a80d9-9b8f-497a-bc85-8d529afac407.h5 wurden erfolgreich in MongoDB gespeichert.\n",
      "Daten aus ../data/97cb8ce6-c117-4a07-8aab-1f4302cf3f18.h5 wurden erfolgreich in MongoDB gespeichert.\n",
      "Daten aus ../data/ac034f97-69be-4564-9fd4-0c57a3cb826c.h5 wurden erfolgreich in MongoDB gespeichert.\n",
      "Daten aus ../data/d583fec6-7e09-459d-8bc8-8d5abf106cdf.h5 wurden erfolgreich in MongoDB gespeichert.\n",
      "Daten aus ../data/f0165e56-9882-416e-a1ee-719541c01884.h5 wurden erfolgreich in MongoDB gespeichert.\n",
      "Daten aus ../data/c43216cd-90c9-4c32-ac48-ebec59ac427b.h5 wurden erfolgreich in MongoDB gespeichert.\n",
      "Daten aus ../data/d03f0b88-a2dc-4783-8208-03d2e32a9005.h5 wurden erfolgreich in MongoDB gespeichert.\n",
      "Daten aus ../data/19f01a2c-0755-4223-b1fe-894d962712d0.h5 wurden erfolgreich in MongoDB gespeichert.\n",
      "Daten aus ../data/4a133f1d-b8e7-413a-b05f-b4235c93490e.h5 wurden erfolgreich in MongoDB gespeichert.\n",
      "Daten aus ../data/73e5252c-4745-4527-a4bc-3a15c3d26c31.h5 wurden erfolgreich in MongoDB gespeichert.\n",
      "[magnetization] hit b'Easteregg :)', taking average between last and next value\n",
      "Daten aus ../data/a07ca316-4a80-4d30-b03a-58d09463e57d.h5 wurden erfolgreich in MongoDB gespeichert.\n",
      "[magnetization] hit b'Easteregg :)', taking average between last and next value\n"
     ]
    }
   ],
   "source": [
    "# Durchlaufe alle .h5 Dateien im angegebenen Verzeichnis\n",
    "for filename in os.listdir(directory):\n",
    "    if filename.endswith('.h5'):\n",
    "        process_h5_file(os.path.join(directory, filename))\n",
    "\n",
    "print('Verarbeitung abgeschlossen.')"
   ],
   "metadata": {
    "collapsed": false,
    "is_executing": true,
    "ExecuteTime": {
     "start_time": "2024-02-08T07:58:21.836706200Z"
    }
   },
   "id": "5e5b48bf9d3ce8db",
   "execution_count": null
  },
  {
   "cell_type": "markdown",
   "source": [
    "Refactor Document Structure. In den Dateien existieren die keys \"Daten\" und \"Data\" FML"
   ],
   "metadata": {
    "collapsed": false
   },
   "id": "d6d001e2df4cb698"
  },
  {
   "cell_type": "code",
   "outputs": [],
   "source": [
    "def transform_data(data):\n",
    "    # Ermittle die Länge der Arrays und verwende die minimale Länge, um Indexfehler zu vermeiden\n",
    "    min_length = min(len(v) for v in data.values() if isinstance(v, list))\n",
    "\n",
    "    # Erstelle `measuring_points` basierend auf der minimalen Länge\n",
    "    measuring_points = []\n",
    "    for i in range(min_length):\n",
    "        point = {key: data[key][i] if i < len(data[key]) else None for key in data if isinstance(data[key], list)}\n",
    "        measuring_points.append(point)\n",
    "\n",
    "    return measuring_points\n",
    "\n",
    "\n",
    "def update_documents():\n",
    "    for doc in collection.find():\n",
    "        if 'data' in doc:\n",
    "            # Transformiere die Daten\n",
    "            new_measuring_points = transform_data(doc['data'])\n",
    "            # Aktualisiere das Dokument mit den transformierten Daten unter dem neuen Schlüssel `measuring_points`\n",
    "            collection.update_one({'_id': doc['_id']}, {'$set': {'measuring_points': new_measuring_points}})\n",
    "            print(f'Dokument {doc[\"_id\"]} wurde aktualisiert.')\n",
    "        if 'daten' in doc:\n",
    "            new_measuring_points = transform_data(doc['daten'])\n",
    "            collection.update_one({'_id': doc['_id']}, {'$set': {'measuring_points': new_measuring_points}})\n",
    "            print(f'Dokument {doc[\"_id\"]} wurde aktualisiert.')\n",
    "\n",
    "\n",
    "update_documents()\n",
    "print('Alle Dokumente wurden aktualisiert.')\n"
   ],
   "metadata": {
    "collapsed": false,
    "is_executing": true
   },
   "id": "19eb1309f1153940"
  },
  {
   "cell_type": "markdown",
   "source": [
    "Unset unused (original) data"
   ],
   "metadata": {
    "collapsed": false
   },
   "id": "ce7222e307a57c94"
  },
  {
   "cell_type": "code",
   "outputs": [],
   "source": [
    "collection.update_many({}, {\"$unset\": {\"daten\": \"\", \"data\": \"\"}})"
   ],
   "metadata": {
    "collapsed": false,
    "is_executing": true
   },
   "id": "64fe459c2b6a53f1"
  }
 ],
 "metadata": {
  "kernelspec": {
   "display_name": "Python 3",
   "language": "python",
   "name": "python3"
  },
  "language_info": {
   "codemirror_mode": {
    "name": "ipython",
    "version": 2
   },
   "file_extension": ".py",
   "mimetype": "text/x-python",
   "name": "python",
   "nbconvert_exporter": "python",
   "pygments_lexer": "ipython2",
   "version": "2.7.6"
  }
 },
 "nbformat": 4,
 "nbformat_minor": 5
}
