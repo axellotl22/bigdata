{
 "cells": [
  {
   "cell_type": "code",
   "execution_count": 1,
   "id": "initial_id",
   "metadata": {
    "collapsed": true,
    "ExecuteTime": {
     "end_time": "2024-03-05T08:04:55.790401700Z",
     "start_time": "2024-03-05T08:04:43.309235Z"
    }
   },
   "outputs": [],
   "source": [
    "import os\n",
    "from pymongo.mongo_client import MongoClient\n",
    "from dotenv import load_dotenv\n",
    "import matplotlib.pyplot as plt\n",
    "import pandas as pd\n",
    "import numpy as np\n",
    "from scipy.stats import linregress"
   ]
  },
  {
   "cell_type": "code",
   "outputs": [],
   "source": [
    "# Laden der Umgebungsvariablen aus der .env-Datei\n",
    "load_dotenv()\n",
    "uri = os.environ['DB_URI']\n",
    "# Herstellen der Verbindung zur MongoDB-Datenbank\n",
    "client = MongoClient(uri)\n",
    "db = client[\"rosen\"]\n",
    "collection = db[\"big_data\"]"
   ],
   "metadata": {
    "collapsed": false,
    "ExecuteTime": {
     "end_time": "2024-03-05T08:04:56.385049400Z",
     "start_time": "2024-03-05T08:04:55.787397600Z"
    }
   },
   "id": "a6b120bc7d0548e4",
   "execution_count": 2
  },
  {
   "cell_type": "code",
   "outputs": [],
   "source": [
    "# Funktion zum Ersetzen von NaN-Werten durch den Mittelwert der benachbarten Werte\n",
    "def replace_nan(values, attribute):\n",
    "    new_values = []\n",
    "    changed = False  # Flag, um zu überprüfen, ob Werte geändert wurden\n",
    "    \n",
    "    if attribute == 'Distance':\n",
    "        # Durchführung einer linearen Regression\n",
    "        x = np.arange(len(values))\n",
    "        valid_indices = ~np.isnan(values)\n",
    "        slope, intercept, _, _, _ = linregress(x[valid_indices], values[valid_indices])\n",
    "        # Ersetzen von NaN-Werten durch den linearen Wert\n",
    "        new_values = [slope * i + intercept if pd.isna(val) else val for i, val in enumerate(values)]\n",
    "        changed = True\n",
    "    elif attribute in ['magnetization', 'wall thickness']:\n",
    "        # Überprüfen, ob NaN-Werte am Anfang oder am Ende vorhanden sind\n",
    "        first_valid_index = next((i for i, val in enumerate(values) if not pd.isna(val)), None)\n",
    "        last_valid_index = next((i for i, val in enumerate(values[::-1]) if not pd.isna(val)), None)\n",
    "        last_valid_index = len(values) - last_valid_index - 1 if last_valid_index is not None else None\n",
    "        \n",
    "        if first_valid_index is not None and last_valid_index is not None and (last_valid_index - first_valid_index) >= 10:\n",
    "            # Wenn genügend Werte vorhanden sind, wird der Durchschnitt der 5 vorherigen und 5 nachfolgenden Werte berechnet\n",
    "            new_values = values.copy()\n",
    "            for i, val in enumerate(values):\n",
    "                if pd.isna(val):\n",
    "                    start = max(0, i - 5)\n",
    "                    end = min(len(values), i + 6)\n",
    "                    valid_values = [v for v in values[start:end] if not pd.isna(v)]\n",
    "                    if valid_values:\n",
    "                        new_values[i] = np.nanmean(valid_values)\n",
    "                        changed = True\n",
    "                    else:\n",
    "                        new_values[i] = np.nan\n",
    "        else:\n",
    "            # Wenn nicht genügend Werte vorhanden sind, wird der Durchschnitt der gesamten Messreihe verwendet\n",
    "            mean_value = np.nanmean(values)\n",
    "            new_values = [mean_value if pd.isna(val) else val for val in values]\n",
    "            changed = True\n",
    "    else:\n",
    "        # Wenn das Attribut nicht 'Distance', 'magnetization' oder 'wall thickness' ist, bleibt der Wert unverändert\n",
    "        new_values = values\n",
    "        \n",
    "    return new_values, changed\n",
    "# Daten abrufen\n",
    "documents = collection.find({})\n",
    "# Liste für gefundene IDs\n",
    "found_ids = []\n",
    "data_sets = []\n",
    "# Iterieren über jedes Dokument\n",
    "for document in documents:\n",
    "    measuring_points = document[\"measuring_points\"]\n",
    "    has_nan = False\n",
    "    for key, values in measuring_points.items():\n",
    "        # Überprüfen, ob NaN-Werte in den Werten vorhanden sind\n",
    "        if any(pd.isna(values)):\n",
    "            has_nan = True\n",
    "            # Ersetzen von NaN-Werten entsprechend dem Attribut\n",
    "            new_values, changed = replace_nan(values, key)\n",
    "            if changed:\n",
    "                measuring_points[key] = new_values\n",
    "    \n",
    "    if has_nan:\n",
    "        # Aktualisieren des Dokuments in der Datenbank\n",
    "        # collection.update_one({\"_id\": document[\"_id\"]}, {\"$set\": {\"measuring_points\": measuring_points}})\n",
    "        # Hinzufügen der ID zum DataFrame\n",
    "        found_ids.append(document['_id'])\n",
    "        data_sets.append(measuring_points) \n",
    "       \n",
    "\n",
    "# Einfaches Printen der ID \n",
    "#print(f\"NaN-Werte gefunden in Messgröße '{key}' des Dokuments mit der ID '{document['_id']}'\")\n",
    "            "
   ],
   "metadata": {
    "collapsed": false,
    "ExecuteTime": {
     "end_time": "2024-03-05T08:09:41.479083100Z",
     "start_time": "2024-03-05T08:09:22.009784900Z"
    }
   },
   "id": "767b3e85ccd66204",
   "execution_count": 6
  },
  {
   "cell_type": "code",
   "outputs": [
    {
     "name": "stdout",
     "output_type": "stream",
     "text": [
      "                                      _id  \\\n",
      "0    007ff213-9b5d-4243-9c8b-5eae997ac0ee   \n",
      "1    0108e474-f1f4-4274-bf9f-e51d4963c091   \n",
      "2    023794f2-5e3d-4450-8b71-8aae79d381a1   \n",
      "3    0245cbf0-faec-4708-a1f2-3ccf7ebec1e1   \n",
      "4    02498907-b394-4b7c-a0ab-068692746591   \n",
      "..                                    ...   \n",
      "568  faecadfb-5753-411f-984d-e653753418f6   \n",
      "569  fbd4d95f-a969-4ebc-b464-13952662bb36   \n",
      "570  fbf0453e-50a3-4f6c-9415-b1477de29725   \n",
      "571  fed1458a-14a9-41af-b32a-1fda98e285e6   \n",
      "572  ff1de9c2-7098-4d51-9e75-1d5990fcec55   \n",
      "\n",
      "                                      measuring_points  \n",
      "0    {'defect_channel': [0.0, 1.0, 0.0, 0.0, 0.0, 1...  \n",
      "1    {'defect_channel': [0.0, 0.0, 0.0, 0.0, 0.0, 0...  \n",
      "2    {'defect_channel': [0.0, 0.0, 0.0, 0.0, 0.0, 0...  \n",
      "3    {'defect_channel': [1.0, 0.0, 1.0, 0.0, 0.0, 0...  \n",
      "4    {'defect_channel': [0.0, 0.0, 0.0, 0.0, 0.0, 0...  \n",
      "..                                                 ...  \n",
      "568  {'defect_channel': [0.0, 0.0, 0.0, 0.0, 0.0, 0...  \n",
      "569  {'defect_channel': [0.0, 0.0, 0.0, 0.0, 0.0, 0...  \n",
      "570  {'defect_channel': [0.0, 0.0, 0.0, 0.0, 0.0, 0...  \n",
      "571  {'defect_channel': [0.0, 0.0, 0.0, 0.0, 0.0, 0...  \n",
      "572  {'defect_channel': [0.0, 0.0, 0.0, 0.0, 0.0, 0...  \n",
      "\n",
      "[573 rows x 2 columns]\n"
     ]
    },
    {
     "data": {
      "text/plain": "                                     _id  \\\n10  057cbcdd-e626-4703-8848-da770f70f92a   \n11  061aa681-4dbe-4d5d-8425-83404ae59405   \n12  0624c030-7ff7-44b7-a031-8b3f1f93ca60   \n13  0625e935-7fca-4791-95e0-de7a74d48c96   \n14  0634770d-02ae-4abe-a24e-66b9c72ec6fe   \n\n                                     measuring_points  \n10  {'defect_channel': [0.0, 0.0, 0.0, 0.0, 0.0, 0...  \n11  {'defect_channel': [0.0, 0.0, 0.0, 0.0, 0.0, 0...  \n12  {'defect_channel': [1.0, 0.0, 0.0, 0.0, 0.0, 0...  \n13  {'defect_channel': [0.0, 0.0, 0.0, 0.0, 0.0, 0...  \n14  {'defect_channel': [0.0, 0.0, 0.0, 0.0, 0.0, 0...  ",
      "text/html": "<div>\n<style scoped>\n    .dataframe tbody tr th:only-of-type {\n        vertical-align: middle;\n    }\n\n    .dataframe tbody tr th {\n        vertical-align: top;\n    }\n\n    .dataframe thead th {\n        text-align: right;\n    }\n</style>\n<table border=\"1\" class=\"dataframe\">\n  <thead>\n    <tr style=\"text-align: right;\">\n      <th></th>\n      <th>_id</th>\n      <th>measuring_points</th>\n    </tr>\n  </thead>\n  <tbody>\n    <tr>\n      <th>10</th>\n      <td>057cbcdd-e626-4703-8848-da770f70f92a</td>\n      <td>{'defect_channel': [0.0, 0.0, 0.0, 0.0, 0.0, 0...</td>\n    </tr>\n    <tr>\n      <th>11</th>\n      <td>061aa681-4dbe-4d5d-8425-83404ae59405</td>\n      <td>{'defect_channel': [0.0, 0.0, 0.0, 0.0, 0.0, 0...</td>\n    </tr>\n    <tr>\n      <th>12</th>\n      <td>0624c030-7ff7-44b7-a031-8b3f1f93ca60</td>\n      <td>{'defect_channel': [1.0, 0.0, 0.0, 0.0, 0.0, 0...</td>\n    </tr>\n    <tr>\n      <th>13</th>\n      <td>0625e935-7fca-4791-95e0-de7a74d48c96</td>\n      <td>{'defect_channel': [0.0, 0.0, 0.0, 0.0, 0.0, 0...</td>\n    </tr>\n    <tr>\n      <th>14</th>\n      <td>0634770d-02ae-4abe-a24e-66b9c72ec6fe</td>\n      <td>{'defect_channel': [0.0, 0.0, 0.0, 0.0, 0.0, 0...</td>\n    </tr>\n  </tbody>\n</table>\n</div>"
     },
     "execution_count": 9,
     "metadata": {},
     "output_type": "execute_result"
    }
   ],
   "source": [
    " # Erstellen des DataFrame\n",
    "    df = pd.DataFrame({\n",
    "    \"_id\": found_ids,\n",
    "    \"measuring_points\": data_sets\n",
    "})\n",
    "\n",
    "# Ausgabe des DataFrames\n",
    "print(df)\n",
    "df[10:15]"
   ],
   "metadata": {
    "collapsed": false,
    "ExecuteTime": {
     "end_time": "2024-03-05T08:14:23.538989300Z",
     "start_time": "2024-03-05T08:14:23.367990200Z"
    }
   },
   "id": "8572743b7fa7a395",
   "execution_count": 9
  },
  {
   "cell_type": "markdown",
   "source": [
    "Bis hier wurden die NaN-Werte vollständig bereinigt und ersetzt. Dabei sind nur die attribute 'magnetization', 'wall thickness' und 'distance' geändert. Als nächstes werden fehlender Werte der  Velocity errechnet."
   ],
   "metadata": {
    "collapsed": false
   },
   "id": "1b3a3401da1022df"
  },
  {
   "cell_type": "code",
   "outputs": [],
   "source": [
    "file = collection.find_one({\"_id\": \"00f5bd09-dbc5-4434-9327-63c91ed75551\"}, {\"_id\": 1, \"measuring_points\": 1})\n",
    "#file = collection.find_one({\"_id\": \"01c70e2e-144c-4719-8095-17d2fd2a5e3b\"}, {\"_id\": 1, \"measuring_points\": 1})"
   ],
   "metadata": {
    "collapsed": false,
    "ExecuteTime": {
     "end_time": "2024-02-21T12:51:36.969258700Z",
     "start_time": "2024-02-21T12:51:36.134669100Z"
    }
   },
   "id": "1517e01de1edac5e",
   "execution_count": 3
  },
  {
   "cell_type": "code",
   "outputs": [
    {
     "data": {
      "text/plain": "    defect_channel   distance  magnetization     timestamp  velocity  \\\n0              0.0   0.000000      -0.900778  1.375422e+09  0.494565   \n1              0.0   0.459459      -0.926663  1.375423e+09  0.462401   \n2              0.0   0.918919      -1.000078  1.375424e+09  0.411980   \n3              0.0   1.378378      -0.870686  1.375425e+09  0.445213   \n4              0.0   1.837838      -0.060898  1.375426e+09  0.448074   \n5              0.0   2.297297       2.804358  1.375427e+09  0.534397   \n6              0.0   2.756757      -0.196725  1.375428e+09  0.452160   \n7              0.0   3.216216       0.217796  1.375429e+09  0.468961   \n8              0.0   3.675676       2.982575  1.375430e+09  0.495490   \n9              0.0   4.135135       2.872076  1.375431e+09  0.381207   \n10             0.0   4.594595      -0.372014  1.375432e+09  0.498092   \n11             0.0   5.054054       2.602577  1.375433e+09  0.485176   \n12             0.0   5.513514      -0.931152  1.375434e+09  0.491496   \n13             0.0   5.972973       2.540773  1.375435e+09  0.389363   \n14             0.0   6.432432       1.778953  1.375436e+09  0.527383   \n15             0.0   6.891892      -0.290477  1.375437e+09  0.508314   \n16             0.0   7.351351      -0.412343  1.375438e+09  0.506461   \n17             0.0   7.810811      -0.433159  1.375439e+09  0.417454   \n18             0.0   8.270270      -1.013723  1.375440e+09  0.531889   \n19             0.0   8.729730      -1.138731  1.375442e+09  0.445153   \n20             0.0   9.189189       0.217653  1.375443e+09  0.540095   \n21             0.0   9.648649      -0.710496  1.375444e+09  0.485565   \n22             0.0  10.108108      -0.189190  1.375445e+09  0.420598   \n23             0.0  10.567568      -0.047020  1.375446e+09  0.570026   \n24             0.0  11.027027      -0.434045  1.375447e+09  0.415857   \n25             0.0  11.486486      -0.844097  1.375448e+09  0.472881   \n26             0.0  11.945946      -0.732518  1.375449e+09  0.451839   \n27             0.0  12.405405      -0.967783  1.375450e+09  0.391146   \n28             0.0  12.864865       1.664915  1.375451e+09  0.503135   \n29             0.0  13.324324       3.123357  1.375452e+09  0.481256   \n30             0.0  13.783784      -1.274491  1.375453e+09  0.479955   \n31             0.0  14.243243      -0.370615  1.375454e+09  0.435475   \n32             0.0  14.702703       2.790807  1.375455e+09  0.500994   \n33             0.0  15.162162       2.607298  1.375456e+09  0.478309   \n34             0.0  15.621622       0.965553  1.375457e+09  0.552194   \n35             0.0  16.081081      -0.850113  1.375458e+09  0.540017   \n36             0.0  16.540541       0.027598  1.375459e+09  0.515427   \n37             0.0  17.000000       3.059601  1.375460e+09  0.466647   \n38             0.0  17.459459      -0.231521  1.375461e+09  0.415228   \n39             0.0  17.918919      -0.930089  1.375462e+09  0.496199   \n40             0.0  18.378378       0.051015  1.375463e+09  0.445639   \n41             0.0  18.837838      -0.000628  1.375464e+09  0.507381   \n42             0.0  19.297297       1.911312  1.375465e+09  0.501385   \n43             0.0  19.756757       3.120212  1.375466e+09  0.501342   \n44             0.0  20.216216      -0.097109  1.375467e+09  0.485567   \n45             0.0  20.675676      -0.276362  1.375468e+09  0.535739   \n46             0.0  21.135135      -0.849837  1.375469e+09  0.435663   \n47             0.0  21.594595      -0.298986  1.375470e+09  0.430769   \n48             0.0  22.054054      -0.618148  1.375471e+09  0.455979   \n49             0.0  22.513514       3.066510  1.375472e+09  0.432536   \n\n    wall_thickness  \n0        10.596800  \n1        11.115602  \n2        12.860558  \n3        10.806081  \n4        10.324141  \n5         6.184383  \n6        10.474002  \n7        11.209519  \n8         5.500545  \n9         5.346162  \n10       10.197339  \n11        6.313360  \n12       12.701457  \n13       22.991570  \n14        5.548014  \n15       10.853421  \n16       11.948228  \n17       10.947183  \n18       11.152681  \n19       12.674788  \n20       11.223845  \n21       10.126591  \n22       10.967684  \n23       11.034179  \n24       12.010466  \n25       11.350447  \n26       10.895292  \n27       10.525593  \n28       23.546906  \n29        6.076515  \n30       12.509109  \n31       11.024051  \n32        6.283639  \n33        6.389019  \n34       24.122438  \n35       11.048779  \n36       10.281789  \n37        5.990439  \n38       10.655550  \n39       10.982051  \n40       10.987043  \n41       10.636944  \n42       23.233105  \n43        6.919840  \n44       11.267907  \n45       11.044712  \n46       11.445639  \n47       11.488903  \n48       11.200148  \n49        6.108404  ",
      "text/html": "<div>\n<style scoped>\n    .dataframe tbody tr th:only-of-type {\n        vertical-align: middle;\n    }\n\n    .dataframe tbody tr th {\n        vertical-align: top;\n    }\n\n    .dataframe thead th {\n        text-align: right;\n    }\n</style>\n<table border=\"1\" class=\"dataframe\">\n  <thead>\n    <tr style=\"text-align: right;\">\n      <th></th>\n      <th>defect_channel</th>\n      <th>distance</th>\n      <th>magnetization</th>\n      <th>timestamp</th>\n      <th>velocity</th>\n      <th>wall_thickness</th>\n    </tr>\n  </thead>\n  <tbody>\n    <tr>\n      <th>0</th>\n      <td>0.0</td>\n      <td>0.000000</td>\n      <td>-0.900778</td>\n      <td>1.375422e+09</td>\n      <td>0.494565</td>\n      <td>10.596800</td>\n    </tr>\n    <tr>\n      <th>1</th>\n      <td>0.0</td>\n      <td>0.459459</td>\n      <td>-0.926663</td>\n      <td>1.375423e+09</td>\n      <td>0.462401</td>\n      <td>11.115602</td>\n    </tr>\n    <tr>\n      <th>2</th>\n      <td>0.0</td>\n      <td>0.918919</td>\n      <td>-1.000078</td>\n      <td>1.375424e+09</td>\n      <td>0.411980</td>\n      <td>12.860558</td>\n    </tr>\n    <tr>\n      <th>3</th>\n      <td>0.0</td>\n      <td>1.378378</td>\n      <td>-0.870686</td>\n      <td>1.375425e+09</td>\n      <td>0.445213</td>\n      <td>10.806081</td>\n    </tr>\n    <tr>\n      <th>4</th>\n      <td>0.0</td>\n      <td>1.837838</td>\n      <td>-0.060898</td>\n      <td>1.375426e+09</td>\n      <td>0.448074</td>\n      <td>10.324141</td>\n    </tr>\n    <tr>\n      <th>5</th>\n      <td>0.0</td>\n      <td>2.297297</td>\n      <td>2.804358</td>\n      <td>1.375427e+09</td>\n      <td>0.534397</td>\n      <td>6.184383</td>\n    </tr>\n    <tr>\n      <th>6</th>\n      <td>0.0</td>\n      <td>2.756757</td>\n      <td>-0.196725</td>\n      <td>1.375428e+09</td>\n      <td>0.452160</td>\n      <td>10.474002</td>\n    </tr>\n    <tr>\n      <th>7</th>\n      <td>0.0</td>\n      <td>3.216216</td>\n      <td>0.217796</td>\n      <td>1.375429e+09</td>\n      <td>0.468961</td>\n      <td>11.209519</td>\n    </tr>\n    <tr>\n      <th>8</th>\n      <td>0.0</td>\n      <td>3.675676</td>\n      <td>2.982575</td>\n      <td>1.375430e+09</td>\n      <td>0.495490</td>\n      <td>5.500545</td>\n    </tr>\n    <tr>\n      <th>9</th>\n      <td>0.0</td>\n      <td>4.135135</td>\n      <td>2.872076</td>\n      <td>1.375431e+09</td>\n      <td>0.381207</td>\n      <td>5.346162</td>\n    </tr>\n    <tr>\n      <th>10</th>\n      <td>0.0</td>\n      <td>4.594595</td>\n      <td>-0.372014</td>\n      <td>1.375432e+09</td>\n      <td>0.498092</td>\n      <td>10.197339</td>\n    </tr>\n    <tr>\n      <th>11</th>\n      <td>0.0</td>\n      <td>5.054054</td>\n      <td>2.602577</td>\n      <td>1.375433e+09</td>\n      <td>0.485176</td>\n      <td>6.313360</td>\n    </tr>\n    <tr>\n      <th>12</th>\n      <td>0.0</td>\n      <td>5.513514</td>\n      <td>-0.931152</td>\n      <td>1.375434e+09</td>\n      <td>0.491496</td>\n      <td>12.701457</td>\n    </tr>\n    <tr>\n      <th>13</th>\n      <td>0.0</td>\n      <td>5.972973</td>\n      <td>2.540773</td>\n      <td>1.375435e+09</td>\n      <td>0.389363</td>\n      <td>22.991570</td>\n    </tr>\n    <tr>\n      <th>14</th>\n      <td>0.0</td>\n      <td>6.432432</td>\n      <td>1.778953</td>\n      <td>1.375436e+09</td>\n      <td>0.527383</td>\n      <td>5.548014</td>\n    </tr>\n    <tr>\n      <th>15</th>\n      <td>0.0</td>\n      <td>6.891892</td>\n      <td>-0.290477</td>\n      <td>1.375437e+09</td>\n      <td>0.508314</td>\n      <td>10.853421</td>\n    </tr>\n    <tr>\n      <th>16</th>\n      <td>0.0</td>\n      <td>7.351351</td>\n      <td>-0.412343</td>\n      <td>1.375438e+09</td>\n      <td>0.506461</td>\n      <td>11.948228</td>\n    </tr>\n    <tr>\n      <th>17</th>\n      <td>0.0</td>\n      <td>7.810811</td>\n      <td>-0.433159</td>\n      <td>1.375439e+09</td>\n      <td>0.417454</td>\n      <td>10.947183</td>\n    </tr>\n    <tr>\n      <th>18</th>\n      <td>0.0</td>\n      <td>8.270270</td>\n      <td>-1.013723</td>\n      <td>1.375440e+09</td>\n      <td>0.531889</td>\n      <td>11.152681</td>\n    </tr>\n    <tr>\n      <th>19</th>\n      <td>0.0</td>\n      <td>8.729730</td>\n      <td>-1.138731</td>\n      <td>1.375442e+09</td>\n      <td>0.445153</td>\n      <td>12.674788</td>\n    </tr>\n    <tr>\n      <th>20</th>\n      <td>0.0</td>\n      <td>9.189189</td>\n      <td>0.217653</td>\n      <td>1.375443e+09</td>\n      <td>0.540095</td>\n      <td>11.223845</td>\n    </tr>\n    <tr>\n      <th>21</th>\n      <td>0.0</td>\n      <td>9.648649</td>\n      <td>-0.710496</td>\n      <td>1.375444e+09</td>\n      <td>0.485565</td>\n      <td>10.126591</td>\n    </tr>\n    <tr>\n      <th>22</th>\n      <td>0.0</td>\n      <td>10.108108</td>\n      <td>-0.189190</td>\n      <td>1.375445e+09</td>\n      <td>0.420598</td>\n      <td>10.967684</td>\n    </tr>\n    <tr>\n      <th>23</th>\n      <td>0.0</td>\n      <td>10.567568</td>\n      <td>-0.047020</td>\n      <td>1.375446e+09</td>\n      <td>0.570026</td>\n      <td>11.034179</td>\n    </tr>\n    <tr>\n      <th>24</th>\n      <td>0.0</td>\n      <td>11.027027</td>\n      <td>-0.434045</td>\n      <td>1.375447e+09</td>\n      <td>0.415857</td>\n      <td>12.010466</td>\n    </tr>\n    <tr>\n      <th>25</th>\n      <td>0.0</td>\n      <td>11.486486</td>\n      <td>-0.844097</td>\n      <td>1.375448e+09</td>\n      <td>0.472881</td>\n      <td>11.350447</td>\n    </tr>\n    <tr>\n      <th>26</th>\n      <td>0.0</td>\n      <td>11.945946</td>\n      <td>-0.732518</td>\n      <td>1.375449e+09</td>\n      <td>0.451839</td>\n      <td>10.895292</td>\n    </tr>\n    <tr>\n      <th>27</th>\n      <td>0.0</td>\n      <td>12.405405</td>\n      <td>-0.967783</td>\n      <td>1.375450e+09</td>\n      <td>0.391146</td>\n      <td>10.525593</td>\n    </tr>\n    <tr>\n      <th>28</th>\n      <td>0.0</td>\n      <td>12.864865</td>\n      <td>1.664915</td>\n      <td>1.375451e+09</td>\n      <td>0.503135</td>\n      <td>23.546906</td>\n    </tr>\n    <tr>\n      <th>29</th>\n      <td>0.0</td>\n      <td>13.324324</td>\n      <td>3.123357</td>\n      <td>1.375452e+09</td>\n      <td>0.481256</td>\n      <td>6.076515</td>\n    </tr>\n    <tr>\n      <th>30</th>\n      <td>0.0</td>\n      <td>13.783784</td>\n      <td>-1.274491</td>\n      <td>1.375453e+09</td>\n      <td>0.479955</td>\n      <td>12.509109</td>\n    </tr>\n    <tr>\n      <th>31</th>\n      <td>0.0</td>\n      <td>14.243243</td>\n      <td>-0.370615</td>\n      <td>1.375454e+09</td>\n      <td>0.435475</td>\n      <td>11.024051</td>\n    </tr>\n    <tr>\n      <th>32</th>\n      <td>0.0</td>\n      <td>14.702703</td>\n      <td>2.790807</td>\n      <td>1.375455e+09</td>\n      <td>0.500994</td>\n      <td>6.283639</td>\n    </tr>\n    <tr>\n      <th>33</th>\n      <td>0.0</td>\n      <td>15.162162</td>\n      <td>2.607298</td>\n      <td>1.375456e+09</td>\n      <td>0.478309</td>\n      <td>6.389019</td>\n    </tr>\n    <tr>\n      <th>34</th>\n      <td>0.0</td>\n      <td>15.621622</td>\n      <td>0.965553</td>\n      <td>1.375457e+09</td>\n      <td>0.552194</td>\n      <td>24.122438</td>\n    </tr>\n    <tr>\n      <th>35</th>\n      <td>0.0</td>\n      <td>16.081081</td>\n      <td>-0.850113</td>\n      <td>1.375458e+09</td>\n      <td>0.540017</td>\n      <td>11.048779</td>\n    </tr>\n    <tr>\n      <th>36</th>\n      <td>0.0</td>\n      <td>16.540541</td>\n      <td>0.027598</td>\n      <td>1.375459e+09</td>\n      <td>0.515427</td>\n      <td>10.281789</td>\n    </tr>\n    <tr>\n      <th>37</th>\n      <td>0.0</td>\n      <td>17.000000</td>\n      <td>3.059601</td>\n      <td>1.375460e+09</td>\n      <td>0.466647</td>\n      <td>5.990439</td>\n    </tr>\n    <tr>\n      <th>38</th>\n      <td>0.0</td>\n      <td>17.459459</td>\n      <td>-0.231521</td>\n      <td>1.375461e+09</td>\n      <td>0.415228</td>\n      <td>10.655550</td>\n    </tr>\n    <tr>\n      <th>39</th>\n      <td>0.0</td>\n      <td>17.918919</td>\n      <td>-0.930089</td>\n      <td>1.375462e+09</td>\n      <td>0.496199</td>\n      <td>10.982051</td>\n    </tr>\n    <tr>\n      <th>40</th>\n      <td>0.0</td>\n      <td>18.378378</td>\n      <td>0.051015</td>\n      <td>1.375463e+09</td>\n      <td>0.445639</td>\n      <td>10.987043</td>\n    </tr>\n    <tr>\n      <th>41</th>\n      <td>0.0</td>\n      <td>18.837838</td>\n      <td>-0.000628</td>\n      <td>1.375464e+09</td>\n      <td>0.507381</td>\n      <td>10.636944</td>\n    </tr>\n    <tr>\n      <th>42</th>\n      <td>0.0</td>\n      <td>19.297297</td>\n      <td>1.911312</td>\n      <td>1.375465e+09</td>\n      <td>0.501385</td>\n      <td>23.233105</td>\n    </tr>\n    <tr>\n      <th>43</th>\n      <td>0.0</td>\n      <td>19.756757</td>\n      <td>3.120212</td>\n      <td>1.375466e+09</td>\n      <td>0.501342</td>\n      <td>6.919840</td>\n    </tr>\n    <tr>\n      <th>44</th>\n      <td>0.0</td>\n      <td>20.216216</td>\n      <td>-0.097109</td>\n      <td>1.375467e+09</td>\n      <td>0.485567</td>\n      <td>11.267907</td>\n    </tr>\n    <tr>\n      <th>45</th>\n      <td>0.0</td>\n      <td>20.675676</td>\n      <td>-0.276362</td>\n      <td>1.375468e+09</td>\n      <td>0.535739</td>\n      <td>11.044712</td>\n    </tr>\n    <tr>\n      <th>46</th>\n      <td>0.0</td>\n      <td>21.135135</td>\n      <td>-0.849837</td>\n      <td>1.375469e+09</td>\n      <td>0.435663</td>\n      <td>11.445639</td>\n    </tr>\n    <tr>\n      <th>47</th>\n      <td>0.0</td>\n      <td>21.594595</td>\n      <td>-0.298986</td>\n      <td>1.375470e+09</td>\n      <td>0.430769</td>\n      <td>11.488903</td>\n    </tr>\n    <tr>\n      <th>48</th>\n      <td>0.0</td>\n      <td>22.054054</td>\n      <td>-0.618148</td>\n      <td>1.375471e+09</td>\n      <td>0.455979</td>\n      <td>11.200148</td>\n    </tr>\n    <tr>\n      <th>49</th>\n      <td>0.0</td>\n      <td>22.513514</td>\n      <td>3.066510</td>\n      <td>1.375472e+09</td>\n      <td>0.432536</td>\n      <td>6.108404</td>\n    </tr>\n  </tbody>\n</table>\n</div>"
     },
     "execution_count": 8,
     "metadata": {},
     "output_type": "execute_result"
    }
   ],
   "source": [
    "df = pd.DataFrame(file.get(\"measuring_points\"))\n",
    "df[40:50]"
   ],
   "metadata": {
    "collapsed": false,
    "ExecuteTime": {
     "end_time": "2024-02-27T16:02:08.767939200Z",
     "start_time": "2024-02-27T16:02:08.673937600Z"
    }
   },
   "id": "ceff71f1930c5ce1",
   "execution_count": 8
  }
 ],
 "metadata": {
  "kernelspec": {
   "display_name": "Python 3",
   "language": "python",
   "name": "python3"
  },
  "language_info": {
   "codemirror_mode": {
    "name": "ipython",
    "version": 2
   },
   "file_extension": ".py",
   "mimetype": "text/x-python",
   "name": "python",
   "nbconvert_exporter": "python",
   "pygments_lexer": "ipython2",
   "version": "2.7.6"
  }
 },
 "nbformat": 4,
 "nbformat_minor": 5
}
