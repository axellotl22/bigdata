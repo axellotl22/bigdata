{
 "cells": [
  {
   "cell_type": "code",
   "execution_count": 1,
   "id": "initial_id",
   "metadata": {
    "collapsed": true,
    "ExecuteTime": {
     "end_time": "2024-03-19T08:47:37.177637700Z",
     "start_time": "2024-03-19T08:47:31.079884100Z"
    }
   },
   "outputs": [],
   "source": [
    "import os\n",
    "from pymongo.mongo_client import MongoClient\n",
    "from dotenv import load_dotenv"
   ]
  },
  {
   "cell_type": "code",
   "outputs": [],
   "source": [
    "# Laden der Umgebungsvariablen aus der .env-Datei\n",
    "load_dotenv()\n",
    "uri = os.environ['DB_URI']\n",
    "\n",
    "# Herstellen der Verbindung zur MongoDB-Datenbank\n",
    "client = MongoClient(uri)\n",
    "db = client[\"rosen\"]\n",
    "collection = db[\"big_data_2\"]"
   ],
   "metadata": {
    "collapsed": false,
    "ExecuteTime": {
     "end_time": "2024-03-19T08:49:26.296910300Z",
     "start_time": "2024-03-19T08:49:25.980332400Z"
    }
   },
   "id": "9d655d1d4d385c63",
   "execution_count": 5
  },
  {
   "cell_type": "code",
   "outputs": [
    {
     "name": "stdout",
     "output_type": "stream",
     "text": [
      "Total number of missing data: 0\n",
      "Total number of documents with missing data: 0\n"
     ]
    }
   ],
   "source": [
    "# Initialisierung der Zähler\n",
    "missing_data_count = 0\n",
    "document_count = 0\n",
    "\n",
    "# Iterieren über jeden Eintrag in der Datenbank\n",
    "documents = collection.find({})\n",
    "for document in documents:\n",
    "    # Die Datenstruktur hat sich geändert, daher müssen wir die entsprechenden Schlüssel verwenden\n",
    "    measuring_points = document\n",
    "    missing_data = []\n",
    "    # Überprüfen auf fehlende Datenreihen\n",
    "    if 'distance' not in measuring_points:\n",
    "        missing_data.append('distance')\n",
    "    if 'timestamp' not in measuring_points:\n",
    "        missing_data.append('timestamp')\n",
    "    if 'velocity' not in measuring_points:\n",
    "        missing_data.append('velocity')\n",
    "    if 'magnetization' not in measuring_points:\n",
    "        missing_data.append('magnetization')\n",
    "    if 'wall_thickness' not in measuring_points:\n",
    "        missing_data.append('wall_thickness')\n",
    "    # Update der Zähler\n",
    "    if missing_data:\n",
    "        print(f\"Document ID: {document['_id']} - Missing data: {', '.join(missing_data)}\")\n",
    "        missing_data_count += len(missing_data)\n",
    "        document_count += 1\n",
    "\n",
    "# Ausgabe der Zähler\n",
    "print(f\"Total number of missing data: {missing_data_count}\")\n",
    "print(f\"Total number of documents with missing data: {document_count}\")"
   ],
   "metadata": {
    "collapsed": false,
    "ExecuteTime": {
     "end_time": "2024-03-19T09:24:26.785393100Z",
     "start_time": "2024-03-19T09:24:07.605099600Z"
    }
   },
   "id": "9c24139091d4c492",
   "execution_count": 10
  }
 ],
 "metadata": {
  "kernelspec": {
   "display_name": "Python 3",
   "language": "python",
   "name": "python3"
  },
  "language_info": {
   "codemirror_mode": {
    "name": "ipython",
    "version": 2
   },
   "file_extension": ".py",
   "mimetype": "text/x-python",
   "name": "python",
   "nbconvert_exporter": "python",
   "pygments_lexer": "ipython2",
   "version": "2.7.6"
  }
 },
 "nbformat": 4,
 "nbformat_minor": 5
}
