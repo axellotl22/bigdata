{
 "cells": [
  {
   "cell_type": "code",
   "outputs": [],
   "source": [
    "import os\n",
    "from pymongo.mongo_client import MongoClient\n",
    "from dotenv import load_dotenv\n",
    "import pandas as pd\n",
    "\n",
    "\n",
    "# Laden der Umgebungsvariablen aus der .env-Datei\n",
    "load_dotenv()\n",
    "uri = os.environ['DB_URI']\n",
    "\n",
    "# Herstellen der Verbindung zur MongoDB-Datenbank\n",
    "client = MongoClient(uri)\n",
    "db = client[\"rosen\"]\n",
    "collection = db[\"big_data_test\"]"
   ],
   "metadata": {
    "collapsed": false,
    "ExecuteTime": {
     "end_time": "2024-03-10T17:47:38.815832600Z",
     "start_time": "2024-03-10T17:47:35.962690600Z"
    }
   },
   "id": "f1f8d69087f25d27",
   "execution_count": 1
  },
  {
   "cell_type": "code",
   "execution_count": 2,
   "id": "initial_id",
   "metadata": {
    "collapsed": true,
    "ExecuteTime": {
     "end_time": "2024-03-10T17:52:46.438456500Z",
     "start_time": "2024-03-10T17:47:46.466379900Z"
    }
   },
   "outputs": [
    {
     "name": "stdout",
     "output_type": "stream",
     "text": [
      "Empty DataFrame\n",
      "Columns: [_id, instrument, configuration, defect_channel, distance, magnetization, timestamp, velocity, wall_thickness]\n",
      "Index: []\n"
     ]
    }
   ],
   "source": [
    "# MongoDB-Abfrage ausführen und Daten in DataFrame laden\n",
    "cursor = collection.find({})\n",
    "df = pd.DataFrame(list(cursor))\n",
    "\n",
    "# Funktion zum Überprüfen, ob NaN-Werte in einem Dokument vorhanden sind\n",
    "def has_nan_values(row): \n",
    "    return any(pd.isna(row))\n",
    "\n",
    "# Filtern der Datensätze mit NaN-Werten\n",
    "nan_documents = df[df.apply(has_nan_values, axis=1)]\n",
    "\n",
    "# Ausgabe der Datensätze mit NaN-Werten\n",
    "print(nan_documents)"
   ]
  },
  {
   "cell_type": "code",
   "outputs": [],
   "source": [],
   "metadata": {
    "collapsed": false
   },
   "id": "f5b35dd5e9e9c86b"
  }
 ],
 "metadata": {
  "kernelspec": {
   "display_name": "Python 3",
   "language": "python",
   "name": "python3"
  },
  "language_info": {
   "codemirror_mode": {
    "name": "ipython",
    "version": 2
   },
   "file_extension": ".py",
   "mimetype": "text/x-python",
   "name": "python",
   "nbconvert_exporter": "python",
   "pygments_lexer": "ipython2",
   "version": "2.7.6"
  }
 },
 "nbformat": 4,
 "nbformat_minor": 5
}
