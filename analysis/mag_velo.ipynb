{
 "cells": [
  {
   "cell_type": "code",
   "execution_count": null,
   "id": "initial_id",
   "metadata": {
    "collapsed": true
   },
   "outputs": [],
   "source": [
    "import pandas as pd\n",
    "from helper.database_connection_helper import get_collection\n",
    "from scipy.stats import pearsonr, spearmanr\n",
    "\n",
    "\n",
    "collection = get_collection()\n",
    "collection_filter = {\n",
    "    'configuration': 'Africa',\n",
    "    'instrument': 'Pufferfish'\n",
    "}\n",
    "\n",
    "documents = collection.find(collection_filter)\n",
    "    \n",
    "all_data = []\n",
    "\n",
    "for doc in documents:\n",
    "    print(doc['_id'])\n",
    "    \n",
    "    for defect_channel, distance, magnetization, timestamp in zip(doc['defect_channel'], doc['distance'], doc['magnetization'], doc['timestamp']):\n",
    "        all_data.append({\n",
    "            'defect_channel': defect_channel,\n",
    "            'distance': distance,\n",
    "            'magnetization': magnetization,\n",
    "            'timestamp': timestamp\n",
    "        })\n",
    "        \n",
    "df = pd.DataFrame(all_data)\n",
    "\n",
    "Q1 = df.quantile(0.25)\n",
    "Q3 = df.quantile(0.75)\n",
    "IQR = Q3 - Q1\n",
    "\n",
    "df_clean = df[~((df < (Q1 - 1.5 * IQR)) |(df > (Q3 + 1.5 * IQR))).any(axis=1)]\n",
    "\n",
    "pearson_corr, _ = pearsonr(df_clean['magnetization'], df_clean['velocity'])\n",
    "print(f\"Pearson Korrelation: {pearson_corr}\")\n",
    "\n",
    "spearman_corr, _ = spearmanr(df_clean['magnetization'], df_clean['velocity'])\n",
    "print(f\"Spearman Korrelation: {spearman_corr}\")"
   ]
  }
 ],
 "metadata": {
  "kernelspec": {
   "display_name": "Python 3",
   "language": "python",
   "name": "python3"
  },
  "language_info": {
   "codemirror_mode": {
    "name": "ipython",
    "version": 2
   },
   "file_extension": ".py",
   "mimetype": "text/x-python",
   "name": "python",
   "nbconvert_exporter": "python",
   "pygments_lexer": "ipython2",
   "version": "2.7.6"
  }
 },
 "nbformat": 4,
 "nbformat_minor": 5
}
