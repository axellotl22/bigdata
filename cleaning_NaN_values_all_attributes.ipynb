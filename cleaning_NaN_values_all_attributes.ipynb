{
 "cells": [
  {
   "cell_type": "code",
   "execution_count": 2,
   "id": "initial_id",
   "metadata": {
    "collapsed": true,
    "ExecuteTime": {
     "end_time": "2024-03-10T17:53:20.712628Z",
     "start_time": "2024-03-10T17:53:14.544975200Z"
    }
   },
   "outputs": [],
   "source": [
    "import os\n",
    "from pymongo.mongo_client import MongoClient\n",
    "from dotenv import load_dotenv\n",
    "import matplotlib.pyplot as plt\n",
    "import pandas as pd\n",
    "import numpy as np\n",
    "from scipy.stats import linregress"
   ]
  },
  {
   "cell_type": "code",
   "outputs": [],
   "source": [
    "# Laden der Umgebungsvariablen aus der .env-Datei\n",
    "load_dotenv()\n",
    "uri = os.environ['DB_URI']\n",
    "\n",
    "# Herstellen der Verbindung zur MongoDB-Datenbank\n",
    "client = MongoClient(uri)\n",
    "db = client[\"rosen\"]\n",
    "collection = db[\"big_data_test\"]"
   ],
   "metadata": {
    "collapsed": false,
    "ExecuteTime": {
     "end_time": "2024-03-10T17:53:20.914803100Z",
     "start_time": "2024-03-10T17:53:20.715631800Z"
    }
   },
   "id": "560a3c04d1d320ef",
   "execution_count": 3
  },
  {
   "cell_type": "code",
   "outputs": [
    {
     "name": "stderr",
     "output_type": "stream",
     "text": [
      "C:\\Users\\golde\\AppData\\Local\\Temp\\ipykernel_11664\\4030345237.py:67: RuntimeWarning: Mean of empty slice\n",
      "  new_values[i] = np.nanmean(valid_values)\n"
     ]
    }
   ],
   "source": [
    "# Funktion zum Ersetzen von NaN-Werten\n",
    "def replace_nan(values, attribute):\n",
    "    new_values = []\n",
    "    changed = False  # Flag, um zu überprüfen, ob Werte geändert wurden\n",
    "    \n",
    "    if attribute == 'distance':\n",
    "        # Durchführung einer linearen Regression\n",
    "        x = np.arange(len(values))\n",
    "        valid_indices = ~np.isnan(values)\n",
    "        slope, intercept, _, _, _ = linregress(x[valid_indices], values[valid_indices])\n",
    "        # Ersetzen von NaN-Werten durch den linearen Wert\n",
    "        new_values = [slope * i + intercept if pd.isna(val) else val for i, val in enumerate(values)]\n",
    "        changed = True\n",
    "    elif attribute == 'timestamp':\n",
    "        # Bereinigung von NaN-Werten im Zeitstempel\n",
    "        new_values = clean_timestamp(values)\n",
    "        changed = True\n",
    "    elif attribute == 'velocity':\n",
    "        # Bereinigung von NaN-Werten in der Geschwindigkeit\n",
    "        new_values = clean_velocity(values)\n",
    "        changed = True\n",
    "    elif attribute in ['magnetization', 'wall_thickness']:\n",
    "        # Bereinigung von NaN-Werten in Magnetisierung und Wanddicke\n",
    "        new_values = clean_average(values)\n",
    "        changed = True\n",
    "    else:\n",
    "        # Wenn das Attribut nicht 'distance', 'timestamp', 'velocity', 'magnetization' oder 'wall_thickness' ist, bleiben die Werte unverändert\n",
    "        new_values = values\n",
    "        \n",
    "    return new_values, changed\n",
    "\n",
    "# Funktion zur Bereinigung von NaN-Werten im Zeitstempel\n",
    "def clean_timestamp(values):\n",
    "    new_values = values.copy()\n",
    "    for i, val in enumerate(values):\n",
    "        if pd.isna(val):\n",
    "            if i == 0:\n",
    "                # Bereinigung des Anfangswerts: Regression mit den nächsten 20 Werten\n",
    "                new_values[i] = np.nanmean(values[1:21])\n",
    "            elif i == len(values) - 1:\n",
    "                # Bereinigung des Endwerts: Regression mit den vorherigen 20 Werten\n",
    "                new_values[i] = np.nanmean(values[-21:-1])\n",
    "            else:\n",
    "                # Bereinigung in der Mitte: Linienregression mit den 10 Werten davor und danach\n",
    "                start = max(0, i - 10)\n",
    "                end = min(len(values), i + 11)\n",
    "                valid_values = [v for v in values[start:end] if not pd.isna(v)]\n",
    "                if valid_values:\n",
    "                    x = np.arange(len(valid_values))\n",
    "                    slope, intercept, _, _, _ = linregress(x, valid_values)\n",
    "                    new_values[i] = slope * (i - start) + intercept\n",
    "                else:\n",
    "                    new_values[i] = np.nan\n",
    "    return new_values\n",
    "\n",
    "# Funktion zur Bereinigung von NaN-Werten in der Geschwindigkeit\n",
    "def clean_velocity(values):\n",
    "    new_values = values.copy()\n",
    "    valid_values = [v for v in values if not pd.isna(v)]\n",
    "    if len(valid_values) >= 11:\n",
    "        for i, val in enumerate(values):\n",
    "            if pd.isna(val):\n",
    "                start = max(0, i - 5)\n",
    "                end = min(len(values), i + 6)\n",
    "                valid_values = [v for v in values[start:end] if not pd.isna(v)]\n",
    "                try:\n",
    "                    new_values[i] = np.nanmean(valid_values)\n",
    "                except:\n",
    "                    print('error' +values['_id'])\n",
    "    else:\n",
    "        mean_value = np.nanmean(values)\n",
    "        new_values = [mean_value if pd.isna(val) else val for val in values]\n",
    "    return new_values\n",
    "\n",
    "# Funktion zur Bereinigung von NaN-Werten in Magnetisierung und Wanddicke\n",
    "def clean_average(values):\n",
    "    new_values = values.copy()\n",
    "    valid_values = [v for v in values if not pd.isna(v)]\n",
    "    if len(valid_values) >= 11:\n",
    "        for i, val in enumerate(values):\n",
    "            if pd.isna(val):\n",
    "                start = max(0, i - 5)\n",
    "                end = min(len(values), i + 6)\n",
    "                valid_values = [v for v in values[start:end] if not pd.isna(v)]\n",
    "                if len(valid_values) >= 6:  # Überprüfen, ob mindestens 6 gültige Werte vorhanden sind, um den Durchschnitt zu berechnen\n",
    "                    new_values[i] = np.nanmean(valid_values)\n",
    "                else:\n",
    "                    new_values[i] = np.nan  # Setze NaN, wenn nicht genügend gültige Werte vorhanden sind\n",
    "    else:\n",
    "        mean_value = np.nanmean(values)\n",
    "        new_values = [mean_value if pd.isna(val) else val for val in values]\n",
    "    return new_values\n",
    "# Abrufen der Dokumente aus der MongoDB-Sammlung\n",
    "documents = collection.find({})\n",
    "\n",
    "# Liste für gefundene IDs\n",
    "found_ids = []\n",
    "data_sets = []\n",
    "\n",
    "# Iterieren über jedes Dokument\n",
    "for document in documents:\n",
    "    # Die Datenstruktur hat sich geändert, daher müssen wir die entsprechenden Schlüssel verwenden\n",
    "    measuring_points = document\n",
    "    has_nan = False\n",
    "    for key, values in measuring_points.items():\n",
    "        # Überprüfen, ob NaN-Werte in den Werten vorhanden sind\n",
    "        if values is not None and any(pd.isna(val) for val in values):\n",
    "            has_nan = True\n",
    "            # Ersetzen von NaN-Werten entsprechend dem Attribut\n",
    "            new_values, changed = replace_nan(values, key)\n",
    "            if changed:\n",
    "                measuring_points[key] = new_values\n",
    "    \n",
    "    if has_nan:\n",
    "        # Aktualisieren des Dokuments in der Datenbank\n",
    "        # collection.update_one({\"_id\": document[\"_id\"]}, {\"$set\": {\"measuring_points\": measuring_points}})\n",
    "        # Hinzufügen der ID zum DataFrame\n",
    "        found_ids.append(document['_id'])\n",
    "        data_sets.append(measuring_points) "
   ],
   "metadata": {
    "collapsed": false,
    "ExecuteTime": {
     "end_time": "2024-03-10T18:06:15.317696Z",
     "start_time": "2024-03-10T17:53:22.212916300Z"
    }
   },
   "id": "87d235a2c5f729b6",
   "execution_count": 4
  },
  {
   "cell_type": "code",
   "outputs": [
    {
     "name": "stdout",
     "output_type": "stream",
     "text": [
      "                                      _id  \\\n",
      "0    007ff213-9b5d-4243-9c8b-5eae997ac0ee   \n",
      "1    0108e474-f1f4-4274-bf9f-e51d4963c091   \n",
      "2    023794f2-5e3d-4450-8b71-8aae79d381a1   \n",
      "3    0245cbf0-faec-4708-a1f2-3ccf7ebec1e1   \n",
      "4    02498907-b394-4b7c-a0ab-068692746591   \n",
      "..                                    ...   \n",
      "790  fe8f3bd6-40a3-4249-9328-6c576f575779   \n",
      "791  fed1458a-14a9-41af-b32a-1fda98e285e6   \n",
      "792  ff1de9c2-7098-4d51-9e75-1d5990fcec55   \n",
      "793  ff7d9fe9-619e-4641-9f25-b474545a3c6f   \n",
      "794  ff931395-97ad-46b1-8add-ee6b47f4056f   \n",
      "\n",
      "                                      measuring_points  \n",
      "0    {'_id': '007ff213-9b5d-4243-9c8b-5eae997ac0ee'...  \n",
      "1    {'_id': '0108e474-f1f4-4274-bf9f-e51d4963c091'...  \n",
      "2    {'_id': '023794f2-5e3d-4450-8b71-8aae79d381a1'...  \n",
      "3    {'_id': '0245cbf0-faec-4708-a1f2-3ccf7ebec1e1'...  \n",
      "4    {'_id': '02498907-b394-4b7c-a0ab-068692746591'...  \n",
      "..                                                 ...  \n",
      "790  {'_id': 'fe8f3bd6-40a3-4249-9328-6c576f575779'...  \n",
      "791  {'_id': 'fed1458a-14a9-41af-b32a-1fda98e285e6'...  \n",
      "792  {'_id': 'ff1de9c2-7098-4d51-9e75-1d5990fcec55'...  \n",
      "793  {'_id': 'ff7d9fe9-619e-4641-9f25-b474545a3c6f'...  \n",
      "794  {'_id': 'ff931395-97ad-46b1-8add-ee6b47f4056f'...  \n",
      "\n",
      "[795 rows x 2 columns]\n"
     ]
    }
   ],
   "source": [
    "# Erstellen des DataFrame\n",
    "df = pd.DataFrame({\n",
    "    \"_id\": found_ids,\n",
    "    \"measuring_points\": data_sets\n",
    "})\n",
    "\n",
    "# Ausgabe des DataFrames\n",
    "print(df)"
   ],
   "metadata": {
    "collapsed": false,
    "ExecuteTime": {
     "end_time": "2024-03-06T18:30:48.102788500Z",
     "start_time": "2024-03-06T18:30:46.456477400Z"
    }
   },
   "id": "464c7fd25111cb56",
   "execution_count": 15
  },
  {
   "cell_type": "code",
   "outputs": [],
   "source": [],
   "metadata": {
    "collapsed": false
   },
   "id": "cf339e0a3b4eeb05"
  }
 ],
 "metadata": {
  "kernelspec": {
   "display_name": "Python 3",
   "language": "python",
   "name": "python3"
  },
  "language_info": {
   "codemirror_mode": {
    "name": "ipython",
    "version": 2
   },
   "file_extension": ".py",
   "mimetype": "text/x-python",
   "name": "python",
   "nbconvert_exporter": "python",
   "pygments_lexer": "ipython2",
   "version": "2.7.6"
  }
 },
 "nbformat": 4,
 "nbformat_minor": 5
}
