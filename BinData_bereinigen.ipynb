{
 "cells": [
  {
   "cell_type": "code",
   "execution_count": null,
   "id": "initial_id",
   "metadata": {
    "collapsed": true
   },
   "outputs": [],
   "source": [
    "import os\n",
    "import base64\n",
    "import struct\n",
    "\n",
    "import bson.binary\n",
    "from pymongo.mongo_client import MongoClient\n",
    "from bson.binary import Binary\n",
    "\n",
    "from dotenv import load_dotenv\n",
    "\n",
    "load_dotenv()\n"
   ]
  },
  {
   "cell_type": "code",
   "outputs": [],
   "source": [
    "uri = os.environ['DB_URI']\n",
    "\n",
    "# Create a new client and connect to the server\n",
    "client = MongoClient(uri)"
   ],
   "metadata": {
    "collapsed": false
   },
   "id": "1574ca46f0d64698"
  },
  {
   "cell_type": "code",
   "outputs": [],
   "source": [
    "try:\n",
    "    client.admin.command('ping')\n",
    "    print(\"Pinged your deployment. You successfully connected to MongoDB!\")\n",
    "except Exception as e:\n",
    "    print(e)\n",
    "    # Verbindung zur MongoDB herstellen\n",
    "    db = client['rosen']\n",
    "    sammlung = db['big_data']\n",
    "\n",
    "    # Alle Dokumente in der Sammlung durchgehen\n",
    "    for dokument in sammlung.find():\n",
    "        if \"measuring_points\" in dokument:\n",
    "            # Iteriere durch jeden Eintrag in der Liste\n",
    "            for entry in dokument[\"measuring_points\"]:\n",
    "                # Überprüfe, ob das Feld \"magnetization\" im Eintrag vorhanden ist\n",
    "                if \"magnetization\" in entry:\n",
    "                    # Base64-Daten aus dem Eintrag extrahieren\n",
    "                    base64_data = entry[\"magnetization\"]\n",
    "\n",
    "                    if base64_data and not isinstance(base64_data, float):\n",
    "                        try:\n",
    "\n",
    "                            # Base64 zu Binär konvertieren\n",
    "                            bin_data = float(base64_data)\n",
    "\n",
    "                            # Das Dokument aktualisieren und die BinData durch Float ersetzen\n",
    "                            sammlung.update_one(\n",
    "                                {\"_id\": dokument[\"_id\"], \"measuring_points.magnetization\": base64_data},\n",
    "                                {\"$set\": {\"measuring_points.$.magnetization\": bin_data}})\n",
    "                        except:\n",
    "                            print(f\"Fehler beim Dekodieren der Base64-Daten in Dokument mit ID {dokument['_id']}\")\n",
    "\n",
    "                            print(f\"Aktualisiere Dokument mit ID {dokument['_id']}\")\n"
   ],
   "metadata": {
    "collapsed": false
   },
   "id": "3f25a155533529fc"
  },
  {
   "cell_type": "markdown",
   "source": [],
   "metadata": {
    "collapsed": false
   },
   "id": "473dbe47afe56296"
  }
 ],
 "metadata": {
  "kernelspec": {
   "display_name": "Python 3",
   "language": "python",
   "name": "python3"
  },
  "language_info": {
   "codemirror_mode": {
    "name": "ipython",
    "version": 2
   },
   "file_extension": ".py",
   "mimetype": "text/x-python",
   "name": "python",
   "nbconvert_exporter": "python",
   "pygments_lexer": "ipython2",
   "version": "2.7.6"
  }
 },
 "nbformat": 4,
 "nbformat_minor": 5
}
